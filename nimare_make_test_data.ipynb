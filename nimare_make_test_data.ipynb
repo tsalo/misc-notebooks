{
 "cells": [
  {
   "cell_type": "markdown",
   "metadata": {},
   "source": [
    "# Make test data for NiMARE\n",
    "This reduces the 21 pain study NiMARE dataset to 10x10x10 maps. Plus adds an atlas and a mask."
   ]
  },
  {
   "cell_type": "code",
   "execution_count": 7,
   "metadata": {},
   "outputs": [],
   "source": [
    "import nimare\n",
    "from nimare.extract import download_nidm_pain\n",
    "from nimare.tests.utils import get_test_data_path\n",
    "import os.path as op\n",
    "import nibabel as nib\n",
    "import numpy as np"
   ]
  },
  {
   "cell_type": "code",
   "execution_count": null,
   "metadata": {},
   "outputs": [],
   "source": [
    "nidm_path = download_nidm_pain()\n",
    "dset_file = op.join(get_test_data_path(), 'nidm_pain_dset.json')\n",
    "out_dir = op.join(get_test_data_path(), 'test_pain_dataset')"
   ]
  },
  {
   "cell_type": "code",
   "execution_count": null,
   "metadata": {},
   "outputs": [],
   "source": [
    "dset = nimare.dataset.Dataset(dset_file)\n",
    "dset.update_path(nidm_path)\n",
    "for target in ['varcope', 'z']:\n",
    "    dset.images = nimare.transforms.transform_images(\n",
    "        dset.images, target=target, metadata_df=dset.metadata, \n",
    "        masker=dset.masker)"
   ]
  },
  {
   "cell_type": "code",
   "execution_count": null,
   "metadata": {},
   "outputs": [],
   "source": [
    "for id_ in dset.ids:\n",
    "    for imgtype in dset.get_images(ids=id_):\n",
    "        in_file = dset.get_images(ids=id_, imtype=imgtype)\n",
    "        img = nib.load(in_file)\n",
    "        data = img.get_fdata()[40:50, 45:55, 40:50]\n",
    "        # We will drop some voxels for the first five studies,\n",
    "        # to test missing data performance\n",
    "        if id_ in dset.ids[:5]:\n",
    "            data[:3, :3, :3] = 0\n",
    "        new_img = nib.Nifti1Image(data, img.affine, header=img.header)\n",
    "        out_file = op.join(out_dir, '{}_{}.nii.gz'.format(id_.replace('.nidm-1', ''), imgtype))\n",
    "        new_img.to_filename(out_file)"
   ]
  },
  {
   "cell_type": "code",
   "execution_count": 9,
   "metadata": {},
   "outputs": [],
   "source": [
    "# make mask\n",
    "img = nib.load(op.join(out_dir, 'pain_01_z.nii.gz'))\n",
    "data = img.get_fdata()\n",
    "mask_data = np.ones(data.shape, int)\n",
    "mask_img = nib.Nifti1Image(mask_data, img.affine, header=img.header)\n",
    "mask_img.to_filename(op.join(out_dir, 'mask.nii.gz'))"
   ]
  },
  {
   "cell_type": "code",
   "execution_count": 11,
   "metadata": {},
   "outputs": [],
   "source": [
    "# make atlas for tests\n",
    "atlas_data = np.zeros(data.shape, int)\n",
    "atlas_data[:2, :2, :2] = 1\n",
    "atlas_data[2:4, :2, :2] = 2\n",
    "atlas_data[4:6, :2, :2] = 3\n",
    "atlas_data[6:8, :2, :2] = 4\n",
    "atlas_data[8:10, :2, :2] = 5\n",
    "atlas_img = nib.Nifti1Image(atlas_data, img.affine, header=img.header)\n",
    "atlas_img.to_filename(op.join(out_dir, 'atlas.nii.gz'))"
   ]
  }
 ],
 "metadata": {
  "kernelspec": {
   "display_name": "Python [conda env:python3]",
   "language": "python",
   "name": "conda-env-python3-py"
  },
  "language_info": {
   "codemirror_mode": {
    "name": "ipython",
    "version": 3
   },
   "file_extension": ".py",
   "mimetype": "text/x-python",
   "name": "python",
   "nbconvert_exporter": "python",
   "pygments_lexer": "ipython3",
   "version": "3.6.4"
  }
 },
 "nbformat": 4,
 "nbformat_minor": 2
}
