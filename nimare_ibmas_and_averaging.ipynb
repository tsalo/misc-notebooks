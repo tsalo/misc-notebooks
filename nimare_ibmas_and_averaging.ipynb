{
 "cells": [
  {
   "cell_type": "markdown",
   "metadata": {},
   "source": [
    "# Investigate biases introduced by averaging in image-based meta-analyses\n",
    "See https://github.com/neurostuff/NiMARE/issues/466 for more information.\n",
    "\n",
    "Here is the planned approach:\n",
    "\n",
    "1. Grab contrast and variance maps from a set of datasets.\n",
    "2. Apply `NiftiLabelsMasker` to the maps, then run an image-based meta-analysis on the masked results.\n",
    "3. Run an image-based meta-analysis on the voxel-wise maps, then apply a `NiftiLabelsMasker` to the results.\n",
    "4. Compare the mask-to-IBMA results to the IBMA-to-mask results."
   ]
  },
  {
   "cell_type": "code",
   "execution_count": null,
   "metadata": {},
   "outputs": [],
   "source": []
  }
 ],
 "metadata": {
  "kernelspec": {
   "display_name": "Python 3",
   "language": "python",
   "name": "python3"
  },
  "language_info": {
   "codemirror_mode": {
    "name": "ipython",
    "version": 3
   },
   "file_extension": ".py",
   "mimetype": "text/x-python",
   "name": "python",
   "nbconvert_exporter": "python",
   "pygments_lexer": "ipython3",
   "version": "3.8.5"
  }
 },
 "nbformat": 4,
 "nbformat_minor": 4
}
