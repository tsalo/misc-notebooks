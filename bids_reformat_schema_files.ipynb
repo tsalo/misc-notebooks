{
 "cells": [
  {
   "cell_type": "code",
   "execution_count": 1,
   "metadata": {},
   "outputs": [],
   "source": [
    "from glob import glob\n",
    "import yaml\n",
    "import os.path as op"
   ]
  },
  {
   "cell_type": "code",
   "execution_count": 2,
   "metadata": {},
   "outputs": [],
   "source": [
    "# Use multiline format for description fields only\n",
    "\n",
    "class Description(str):\n",
    "    pass\n",
    "\n",
    "def multiline_presenter(dumper, data):\n",
    "    return dumper.represent_scalar('tag:yaml.org,2002:str', data, style='|')\n",
    "\n",
    "yaml.add_representer(Description, multiline_presenter)\n",
    "\n",
    "# to use with safe_dump:\n",
    "yaml.representer.SafeRepresenter.add_representer(Description, multiline_presenter)"
   ]
  },
  {
   "cell_type": "code",
   "execution_count": 8,
   "metadata": {},
   "outputs": [],
   "source": [
    "def compile_files(in_files, out_file):\n",
    "    if len(in_files) == 0:\n",
    "        raise ValueError(\"No files found.\")\n",
    "\n",
    "    out = {}\n",
    "    for file_ in in_files:\n",
    "        with open(file_, \"r\") as fo:\n",
    "            info = yaml.load(fo)\n",
    "        \n",
    "        if \"description\" in info.keys():\n",
    "            info[\"description\"] = Description(info[\"description\"])\n",
    "\n",
    "        out[op.basename(file_)[:-5]] = info\n",
    "\n",
    "    with open(out_file, \"w\") as fo:\n",
    "        yaml.safe_dump(out, fo, indent=2, sort_keys=False, explicit_start=True)"
   ]
  },
  {
   "cell_type": "code",
   "execution_count": 4,
   "metadata": {},
   "outputs": [],
   "source": [
    "entity_files = sorted(glob(\"entities/*.yaml\"))\n",
    "out_fname = \"entities2.yaml\"\n",
    "#compile_files(entity_files, out_fname)"
   ]
  },
  {
   "cell_type": "code",
   "execution_count": 5,
   "metadata": {},
   "outputs": [],
   "source": [
    "files = sorted(glob(\"suffixes/*.yaml\"))\n",
    "out_fname = \"suffixes.yaml\"\n",
    "#compile_files(files, out_fname)"
   ]
  },
  {
   "cell_type": "code",
   "execution_count": 6,
   "metadata": {},
   "outputs": [
    {
     "name": "stderr",
     "output_type": "stream",
     "text": [
      "<ipython-input-3-501b975a83fc>:5: YAMLLoadWarning: calling yaml.load() without Loader=... is deprecated, as the default Loader is unsafe. Please read https://msg.pyyaml.org/load for full details.\n",
      "  info = yaml.load(fo)\n"
     ]
    }
   ],
   "source": [
    "files = sorted(glob(\"metadata/*.yaml\"))\n",
    "out_fname = \"metadata.yaml\"\n",
    "compile_files(files, out_fname)"
   ]
  },
  {
   "cell_type": "code",
   "execution_count": 9,
   "metadata": {},
   "outputs": [],
   "source": [
    "files = sorted(glob(\"top_level_files/*.yaml\"))\n",
    "out_fname = \"top_level_files.yaml\"\n",
    "compile_files(files, out_fname)"
   ]
  },
  {
   "cell_type": "code",
   "execution_count": null,
   "metadata": {},
   "outputs": [],
   "source": []
  }
 ],
 "metadata": {
  "kernelspec": {
   "display_name": "Python 3",
   "language": "python",
   "name": "python3"
  },
  "language_info": {
   "codemirror_mode": {
    "name": "ipython",
    "version": 3
   },
   "file_extension": ".py",
   "mimetype": "text/x-python",
   "name": "python",
   "nbconvert_exporter": "python",
   "pygments_lexer": "ipython3",
   "version": "3.8.5"
  }
 },
 "nbformat": 4,
 "nbformat_minor": 4
}
