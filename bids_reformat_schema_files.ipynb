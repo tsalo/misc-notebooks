{
 "cells": [
  {
   "cell_type": "code",
   "execution_count": 1,
   "metadata": {},
   "outputs": [],
   "source": [
    "from glob import glob\n",
    "import yaml\n",
    "import os.path as op"
   ]
  },
  {
   "cell_type": "code",
   "execution_count": 2,
   "metadata": {},
   "outputs": [],
   "source": [
    "# Use multiline format for description fields only\n",
    "\n",
    "class Description(str):\n",
    "    pass\n",
    "\n",
    "def multiline_presenter(dumper, data):\n",
    "    return dumper.represent_scalar('tag:yaml.org,2002:str', data, style='|')\n",
    "\n",
    "yaml.add_representer(Description, multiline_presenter)\n",
    "\n",
    "# to use with safe_dump:\n",
    "yaml.representer.SafeRepresenter.add_representer(Description, multiline_presenter)"
   ]
  },
  {
   "cell_type": "code",
   "execution_count": 3,
   "metadata": {},
   "outputs": [],
   "source": [
    "def compile_files(in_files, out_file):\n",
    "    if len(in_files) == 0:\n",
    "        raise ValueError(\"No files found.\")\n",
    "\n",
    "    out = {}\n",
    "    for file_ in in_files:\n",
    "        with open(file_, \"r\") as fo:\n",
    "            info = yaml.load(fo)\n",
    "        \n",
    "        if \"description\" in info.keys():\n",
    "            info[\"description\"] = Description(info[\"description\"])\n",
    "\n",
    "        out[op.splitext(op.basename(file_))[0]] = info\n",
    "\n",
    "    with open(out_file, \"w\") as fo:\n",
    "        yaml.safe_dump(out, fo, indent=2, sort_keys=False, explicit_start=True)\n",
    "\n",
    "def quick_fix_file(yaml_file):\n",
    "    with open(yaml_file, \"r\") as fo:\n",
    "        info = yaml.load(fo)\n",
    "    \n",
    "    for k in info.keys():\n",
    "        if \"description\" in info[k].keys():\n",
    "            info[k][\"description\"] = Description(info[k][\"description\"])\n",
    "        \n",
    "    with open(yaml_file, \"w\") as fo:\n",
    "        yaml.safe_dump(\n",
    "            info, \n",
    "            fo, \n",
    "            indent=2, \n",
    "            sort_keys=False, \n",
    "            explicit_start=True,\n",
    "        )"
   ]
  },
  {
   "cell_type": "code",
   "execution_count": 4,
   "metadata": {},
   "outputs": [],
   "source": [
    "schema_dir = \"/Users/taylor/Documents/tsalo/bids-specification/src/schema/\""
   ]
  },
  {
   "cell_type": "code",
   "execution_count": 5,
   "metadata": {},
   "outputs": [],
   "source": [
    "entity_files = sorted(glob(op.join(schema_dir, \"entities/*.yaml\")))\n",
    "out_fname = op.join(schema_dir, \"objects/entities.yaml\")\n",
    "#compile_files(entity_files, out_fname)\n",
    "#quick_fix_file(out_fname)"
   ]
  },
  {
   "cell_type": "code",
   "execution_count": 6,
   "metadata": {},
   "outputs": [
    {
     "name": "stderr",
     "output_type": "stream",
     "text": [
      "<ipython-input-3-434ea9511607>:20: YAMLLoadWarning: calling yaml.load() without Loader=... is deprecated, as the default Loader is unsafe. Please read https://msg.pyyaml.org/load for full details.\n",
      "  info = yaml.load(fo)\n"
     ]
    }
   ],
   "source": [
    "files = sorted(glob(op.join(schema_dir, \"suffixes/*.yaml\")))\n",
    "out_fname = op.join(schema_dir, \"objects/suffixes.yaml\")\n",
    "#compile_files(files, out_fname)\n",
    "quick_fix_file(out_fname)"
   ]
  },
  {
   "cell_type": "code",
   "execution_count": 7,
   "metadata": {},
   "outputs": [
    {
     "name": "stderr",
     "output_type": "stream",
     "text": [
      "<ipython-input-3-434ea9511607>:20: YAMLLoadWarning: calling yaml.load() without Loader=... is deprecated, as the default Loader is unsafe. Please read https://msg.pyyaml.org/load for full details.\n",
      "  info = yaml.load(fo)\n"
     ]
    }
   ],
   "source": [
    "files = sorted(glob(op.join(schema_dir, \"metadata/*.yaml\")))\n",
    "out_fname = op.join(schema_dir, \"objects/metadata.yaml\")\n",
    "#compile_files(files, out_fname)\n",
    "quick_fix_file(out_fname)"
   ]
  },
  {
   "cell_type": "code",
   "execution_count": 8,
   "metadata": {},
   "outputs": [
    {
     "name": "stderr",
     "output_type": "stream",
     "text": [
      "<ipython-input-3-434ea9511607>:20: YAMLLoadWarning: calling yaml.load() without Loader=... is deprecated, as the default Loader is unsafe. Please read https://msg.pyyaml.org/load for full details.\n",
      "  info = yaml.load(fo)\n"
     ]
    }
   ],
   "source": [
    "files = sorted(glob(op.join(schema_dir, \"top_level_files/*.yaml\")))\n",
    "out_fname = op.join(schema_dir, \"objects/top_level_files.yaml\")\n",
    "#compile_files(files, out_fname)\n",
    "quick_fix_file(out_fname)"
   ]
  },
  {
   "cell_type": "code",
   "execution_count": 9,
   "metadata": {},
   "outputs": [],
   "source": [
    "files = sorted(glob(op.join(schema_dir, \"columns/*.yaml\")))\n",
    "out_fname = op.join(schema_dir, \"objects/columns.yaml\")\n",
    "#compile_files(files, out_fname)"
   ]
  },
  {
   "cell_type": "code",
   "execution_count": 15,
   "metadata": {},
   "outputs": [
    {
     "name": "stderr",
     "output_type": "stream",
     "text": [
      "<ipython-input-3-434ea9511607>:20: YAMLLoadWarning: calling yaml.load() without Loader=... is deprecated, as the default Loader is unsafe. Please read https://msg.pyyaml.org/load for full details.\n",
      "  info = yaml.load(fo)\n"
     ]
    },
    {
     "ename": "AttributeError",
     "evalue": "'list' object has no attribute 'keys'",
     "output_type": "error",
     "traceback": [
      "\u001b[0;31m---------------------------------------------------------------------------\u001b[0m",
      "\u001b[0;31mAttributeError\u001b[0m                            Traceback (most recent call last)",
      "\u001b[0;32m<ipython-input-15-d77efc72980d>\u001b[0m in \u001b[0;36m<module>\u001b[0;34m\u001b[0m\n\u001b[1;32m      5\u001b[0m \u001b[0mdatatype_files\u001b[0m \u001b[0;34m=\u001b[0m \u001b[0msorted\u001b[0m\u001b[0;34m(\u001b[0m\u001b[0mglob\u001b[0m\u001b[0;34m(\u001b[0m\u001b[0mop\u001b[0m\u001b[0;34m.\u001b[0m\u001b[0mjoin\u001b[0m\u001b[0;34m(\u001b[0m\u001b[0mschema_dir\u001b[0m\u001b[0;34m,\u001b[0m \u001b[0;34m\"rules/datatypes\"\u001b[0m\u001b[0;34m,\u001b[0m \u001b[0;34m\"*.yaml\"\u001b[0m\u001b[0;34m)\u001b[0m\u001b[0;34m)\u001b[0m\u001b[0;34m)\u001b[0m\u001b[0;34m\u001b[0m\u001b[0;34m\u001b[0m\u001b[0m\n\u001b[1;32m      6\u001b[0m \u001b[0;32mfor\u001b[0m \u001b[0mf\u001b[0m \u001b[0;32min\u001b[0m \u001b[0mdatatype_files\u001b[0m\u001b[0;34m:\u001b[0m\u001b[0;34m\u001b[0m\u001b[0;34m\u001b[0m\u001b[0m\n\u001b[0;32m----> 7\u001b[0;31m     \u001b[0mquick_fix_file\u001b[0m\u001b[0;34m(\u001b[0m\u001b[0mf\u001b[0m\u001b[0;34m)\u001b[0m\u001b[0;34m\u001b[0m\u001b[0;34m\u001b[0m\u001b[0m\n\u001b[0m",
      "\u001b[0;32m<ipython-input-3-434ea9511607>\u001b[0m in \u001b[0;36mquick_fix_file\u001b[0;34m(yaml_file)\u001b[0m\n\u001b[1;32m     20\u001b[0m         \u001b[0minfo\u001b[0m \u001b[0;34m=\u001b[0m \u001b[0myaml\u001b[0m\u001b[0;34m.\u001b[0m\u001b[0mload\u001b[0m\u001b[0;34m(\u001b[0m\u001b[0mfo\u001b[0m\u001b[0;34m)\u001b[0m\u001b[0;34m\u001b[0m\u001b[0;34m\u001b[0m\u001b[0m\n\u001b[1;32m     21\u001b[0m \u001b[0;34m\u001b[0m\u001b[0m\n\u001b[0;32m---> 22\u001b[0;31m     \u001b[0;32mfor\u001b[0m \u001b[0mk\u001b[0m \u001b[0;32min\u001b[0m \u001b[0minfo\u001b[0m\u001b[0;34m.\u001b[0m\u001b[0mkeys\u001b[0m\u001b[0;34m(\u001b[0m\u001b[0;34m)\u001b[0m\u001b[0;34m:\u001b[0m\u001b[0;34m\u001b[0m\u001b[0;34m\u001b[0m\u001b[0m\n\u001b[0m\u001b[1;32m     23\u001b[0m         \u001b[0;32mif\u001b[0m \u001b[0;34m\"description\"\u001b[0m \u001b[0;32min\u001b[0m \u001b[0minfo\u001b[0m\u001b[0;34m[\u001b[0m\u001b[0mk\u001b[0m\u001b[0;34m]\u001b[0m\u001b[0;34m.\u001b[0m\u001b[0mkeys\u001b[0m\u001b[0;34m(\u001b[0m\u001b[0;34m)\u001b[0m\u001b[0;34m:\u001b[0m\u001b[0;34m\u001b[0m\u001b[0;34m\u001b[0m\u001b[0m\n\u001b[1;32m     24\u001b[0m             \u001b[0minfo\u001b[0m\u001b[0;34m[\u001b[0m\u001b[0mk\u001b[0m\u001b[0;34m]\u001b[0m\u001b[0;34m[\u001b[0m\u001b[0;34m\"description\"\u001b[0m\u001b[0;34m]\u001b[0m \u001b[0;34m=\u001b[0m \u001b[0mDescription\u001b[0m\u001b[0;34m(\u001b[0m\u001b[0minfo\u001b[0m\u001b[0;34m[\u001b[0m\u001b[0mk\u001b[0m\u001b[0;34m]\u001b[0m\u001b[0;34m[\u001b[0m\u001b[0;34m\"description\"\u001b[0m\u001b[0;34m]\u001b[0m\u001b[0;34m)\u001b[0m\u001b[0;34m\u001b[0m\u001b[0;34m\u001b[0m\u001b[0m\n",
      "\u001b[0;31mAttributeError\u001b[0m: 'list' object has no attribute 'keys'"
     ]
    }
   ],
   "source": [
    "out_fname = op.join(schema_dir, \"rules/modalities.yaml\")\n",
    "quick_fix_file(out_fname)\n",
    "out_fname = op.join(schema_dir, \"rules/top_level_files.yaml\")\n",
    "quick_fix_file(out_fname)"
   ]
  },
  {
   "cell_type": "code",
   "execution_count": null,
   "metadata": {},
   "outputs": [],
   "source": []
  }
 ],
 "metadata": {
  "kernelspec": {
   "display_name": "Python 3",
   "language": "python",
   "name": "python3"
  },
  "language_info": {
   "codemirror_mode": {
    "name": "ipython",
    "version": 3
   },
   "file_extension": ".py",
   "mimetype": "text/x-python",
   "name": "python",
   "nbconvert_exporter": "python",
   "pygments_lexer": "ipython3",
   "version": "3.8.5"
  }
 },
 "nbformat": 4,
 "nbformat_minor": 4
}
