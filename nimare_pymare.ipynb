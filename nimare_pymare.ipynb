{
 "cells": [
  {
   "cell_type": "markdown",
   "metadata": {},
   "source": [
    "# Begin integrating PyMARE into NiMARE"
   ]
  },
  {
   "cell_type": "code",
   "execution_count": 1,
   "metadata": {},
   "outputs": [
    {
     "name": "stdout",
     "output_type": "stream",
     "text": [
      "200625-14:06:16,579 nipype.utils INFO:\n",
      "\t Running nipype version 1.4.2 (latest: 1.5.0)\n"
     ]
    },
    {
     "name": "stderr",
     "output_type": "stream",
     "text": [
      "INFO:nipype.utils:Running nipype version 1.4.2 (latest: 1.5.0)\n"
     ]
    }
   ],
   "source": [
    "import numpy as np\n",
    "\n",
    "import nimare as nim\n",
    "import pymare"
   ]
  },
  {
   "cell_type": "code",
   "execution_count": 2,
   "metadata": {},
   "outputs": [
    {
     "name": "stderr",
     "output_type": "stream",
     "text": [
      "INFO:nimare.utils:Shared path detected: \"/Users/tsalo/.nimare/nidm_21pain/\"\n",
      "INFO:nimare.utils:Shared path detected: \"/Users/tsalo/.nimare/nidm_21pain/\"\n"
     ]
    }
   ],
   "source": [
    "dset = nim.dataset.Dataset('/Users/tsalo/Documents/tsalo/NiMARE/nimare/tests/data/nidm_pain_dset.json')\n",
    "dset.update_path('/Users/tsalo/.nimare/nidm_21pain')\n",
    "\n",
    "# Calculate varcopes from se maps\n",
    "dset.images = nim.transforms.transform_images(dset.images, target='varcope', masker=dset.masker)"
   ]
  },
  {
   "cell_type": "code",
   "execution_count": 107,
   "metadata": {},
   "outputs": [],
   "source": [
    "# Get maps\n",
    "beta_maps = dset.masker.transform(dset.get_images(imtype='beta'))\n",
    "varcope_maps = dset.masker.transform(dset.get_images(imtype='varcope'))\n",
    "beta_vals = beta_maps[:, 500]\n",
    "varcope_vals = varcope_maps[:, 500]"
   ]
  },
  {
   "cell_type": "code",
   "execution_count": 86,
   "metadata": {},
   "outputs": [
    {
     "data": {
      "text/plain": [
       "array([[ 0.0000000e+00,  0.0000000e+00,  0.0000000e+00, ...,\n",
       "         0.0000000e+00,  0.0000000e+00,  0.0000000e+00],\n",
       "       [ 0.0000000e+00,  0.0000000e+00,  0.0000000e+00, ...,\n",
       "         0.0000000e+00,  0.0000000e+00,  0.0000000e+00],\n",
       "       [ 0.0000000e+00,  0.0000000e+00,  0.0000000e+00, ...,\n",
       "         4.9952388e-02,  3.6424603e-02,  7.7398606e-02],\n",
       "       ...,\n",
       "       [ 1.6634607e+01,  8.0900936e+00,  4.2870326e+00, ...,\n",
       "        -6.9481072e+00, -4.4550176e+00, -9.5353413e+00],\n",
       "       [ 7.3258469e+01,  7.6597244e+01,  6.4972069e+01, ...,\n",
       "         0.0000000e+00,  0.0000000e+00,  0.0000000e+00],\n",
       "       [ 1.3388044e+00, -2.6281266e+00, -9.5338631e+00, ...,\n",
       "        -3.2507526e+01, -3.8365864e+01, -2.9402128e+01]], dtype=float32)"
      ]
     },
     "execution_count": 86,
     "metadata": {},
     "output_type": "execute_result"
    }
   ],
   "source": [
    "# Note the zeros due to mask mismatch\n",
    "beta_maps"
   ]
  },
  {
   "cell_type": "code",
   "execution_count": 87,
   "metadata": {},
   "outputs": [],
   "source": [
    "beta_maps = np.zeros((beta_maps.shape[0], 5))\n",
    "# missing values in all studies\n",
    "beta_maps[:, 0] = np.nan\n",
    "# all zeros in all studies\n",
    "beta_maps[:, 1] = 0\n",
    "# missing values or zeros in all studies\n",
    "beta_maps[:5, 2] = np.nan\n",
    "beta_maps[5:, 2] = 0\n",
    "# missing values in some studies\n",
    "beta_maps[:5, 3] = np.nan\n",
    "beta_maps[5:, 3] = np.random.random(size=beta_maps[5:, :].shape[0])\n",
    "# values in all studies\n",
    "beta_maps[:, 4] = beta_vals"
   ]
  },
  {
   "cell_type": "code",
   "execution_count": 88,
   "metadata": {},
   "outputs": [],
   "source": [
    "# Note the zeros due to mask mismatch\n",
    "varcope_maps = np.random.random(beta_maps.shape)\n",
    "varcope_maps[:, 0] = np.nan\n",
    "varcope_maps[:, 1] = 0\n",
    "varcope_maps[:5, 2] = np.nan\n",
    "varcope_maps[5:, 2] = 0\n",
    "# missing values in some studies\n",
    "varcope_maps[:5, 3] = np.nan\n",
    "varcope_maps[5:, 3] = np.random.random(size=varcope_maps[5:, :].shape[0])\n",
    "# values in all studies\n",
    "varcope_maps[:, 4] = varcope_vals"
   ]
  },
  {
   "cell_type": "code",
   "execution_count": 108,
   "metadata": {},
   "outputs": [],
   "source": [
    "beta_vals[0] = 0\n",
    "#varcope_vals[0] = 0\n",
    "pymdata = pymare.Dataset(y=beta_vals, v=varcope_vals)"
   ]
  },
  {
   "cell_type": "code",
   "execution_count": 109,
   "metadata": {},
   "outputs": [
    {
     "data": {
      "text/plain": [
       "array([ 0.0000000e+00,  1.8545592e-02, -1.8239343e-01,  9.2357084e-02,\n",
       "       -1.5175854e+00,  2.2288015e-01,  3.7830898e-01, -1.5596311e-01,\n",
       "       -6.1550317e+00, -1.0623064e+01, -7.2810631e+00, -1.7402008e+01,\n",
       "       -4.8586643e+01, -2.5317017e+01, -2.5451143e+02, -8.8065613e+02,\n",
       "        3.5712410e+01, -8.4780434e+01, -5.7234497e+01,  6.2319660e+01,\n",
       "       -6.2231270e+01], dtype=float32)"
      ]
     },
     "execution_count": 109,
     "metadata": {},
     "output_type": "execute_result"
    }
   ],
   "source": [
    "pymdata.y[:, -1]"
   ]
  },
  {
   "cell_type": "code",
   "execution_count": 110,
   "metadata": {},
   "outputs": [
    {
     "data": {
      "text/plain": [
       "array([2.89738581e-02, 3.14901288e-02, 2.00873977e-02, 1.50731778e-02,\n",
       "       1.97102654e+00, 9.37494571e-01, 1.15110459e+00, 5.72463739e+00,\n",
       "       2.31791263e+00, 4.61700461e+00, 5.86888184e+03, 2.97981567e+02,\n",
       "       2.47385788e+02, 1.27876550e+03, 2.81807812e+04, 7.12048047e+04,\n",
       "       8.31162793e+03, 1.21666357e+04, 1.79912061e+03, 3.84692236e+03,\n",
       "       5.20082214e+02])"
      ]
     },
     "execution_count": 110,
     "metadata": {},
     "output_type": "execute_result"
    }
   ],
   "source": [
    "pymdata.v[:, -1]"
   ]
  },
  {
   "cell_type": "code",
   "execution_count": 111,
   "metadata": {},
   "outputs": [],
   "source": [
    "est = pymare.estimators.DerSimonianLaird()\n",
    "est.fit(pymdata)\n",
    "est_summary = est.summary()"
   ]
  },
  {
   "cell_type": "code",
   "execution_count": 114,
   "metadata": {},
   "outputs": [
    {
     "data": {
      "text/plain": [
       "{'ci_l': array([], dtype=float64),\n",
       " 'ci_u': array([], dtype=float64),\n",
       " 'tau^2': array([0.43365403])}"
      ]
     },
     "execution_count": 114,
     "metadata": {},
     "output_type": "execute_result"
    }
   ],
   "source": [
    "est_summary.get_re_stats()"
   ]
  },
  {
   "cell_type": "code",
   "execution_count": 113,
   "metadata": {},
   "outputs": [
    {
     "data": {
      "text/plain": [
       "array([0.43365403])"
      ]
     },
     "execution_count": 113,
     "metadata": {},
     "output_type": "execute_result"
    }
   ],
   "source": [
    "est_summary.tau2"
   ]
  },
  {
   "cell_type": "code",
   "execution_count": null,
   "metadata": {},
   "outputs": [],
   "source": [
    "beta_maps[:, 187]"
   ]
  },
  {
   "cell_type": "code",
   "execution_count": null,
   "metadata": {},
   "outputs": [],
   "source": [
    "varcope_maps[:, 187]"
   ]
  },
  {
   "cell_type": "code",
   "execution_count": null,
   "metadata": {},
   "outputs": [],
   "source": [
    "import numpy as np\n",
    "from pymare.stats import q_profile\n",
    "y = np.array([0.0000000e+00, 0.0000000e+00, 0.0000000e+00, 0.0000000e+00, -5.2165329e-01, 7.4963748e-01, 3.3219385e-01, -1.2351226e+00, 1.7527617e+00, -3.0110748e+00,  1.0946554e+02, -4.8926108e-02, 0.0000000e+00,  0.0000000e+00,  0.0000000e+00, -6.2120113e+01, -2.8613630e+01, -1.2308966e+01,  5.3221474e+00,  0.0000000e+00, -9.2870388e+00])\n",
    "v = np.array([0.00000000e+00, 0.00000000e+00, 0.00000000e+00, 0.00000000e+00, 5.54480810e-01, 1.21734442e-01, 2.25415160e-01, 1.74327830e+00, 6.00752247e-01, 1.43908420e+00, 3.25888647e+03, 4.66549950e+01, 0.00000000e+00, 0.00000000e+00, 0.00000000e+00, 2.91479907e+03, 2.15909521e+03, 2.17931152e+03, 1.63775589e+02, 0.00000000e+00, 1.01077698e+02])\n",
    "X = np.array([[1.], [1.], [1.], [1.], [1.], [1.], [1.], [1.], [1.], [1.], [1.], [1.], [1.], [1.], [1.], [1.], [1.], [1.], [1.], [1.], [1.]])\n",
    "alpha = 0.05\n",
    "q_cis = q_profile(y=y, X=X, v=v, alpha=alpha)"
   ]
  },
  {
   "cell_type": "code",
   "execution_count": null,
   "metadata": {},
   "outputs": [],
   "source": [
    "import scipy.stats as ss\n",
    "k, p = X.shape\n",
    "df = k - p\n",
    "l_crit = ss.chi2.ppf(1 - alpha / 2, df)\n",
    "u_crit = ss.chi2.ppf(alpha / 2, df)"
   ]
  },
  {
   "cell_type": "code",
   "execution_count": null,
   "metadata": {},
   "outputs": [],
   "source": [
    "u_crit"
   ]
  },
  {
   "cell_type": "code",
   "execution_count": null,
   "metadata": {},
   "outputs": [],
   "source": []
  }
 ],
 "metadata": {
  "kernelspec": {
   "display_name": "Python [conda env:python3]",
   "language": "python",
   "name": "conda-env-python3-py"
  },
  "language_info": {
   "codemirror_mode": {
    "name": "ipython",
    "version": 3
   },
   "file_extension": ".py",
   "mimetype": "text/x-python",
   "name": "python",
   "nbconvert_exporter": "python",
   "pygments_lexer": "ipython3",
   "version": "3.6.4"
  }
 },
 "nbformat": 4,
 "nbformat_minor": 2
}
