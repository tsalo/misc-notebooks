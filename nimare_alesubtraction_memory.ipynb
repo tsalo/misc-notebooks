{
 "cells": [
  {
   "cell_type": "code",
   "execution_count": 1,
   "metadata": {},
   "outputs": [],
   "source": [
    "%load_ext memory_profiler"
   ]
  },
  {
   "cell_type": "code",
   "execution_count": 2,
   "metadata": {},
   "outputs": [],
   "source": [
    "import os.path as op\n",
    "import nimare\n",
    "from nimare.meta import ale\n",
    "from nimare.tests.utils import get_test_data_path\n",
    "dset = nimare.dataset.Dataset(op.join(get_test_data_path(), 'nidm_pain_dset.json'))\n",
    "meta1 = nimare.meta.ale.ALE()\n",
    "meta1.fit(dset)\n",
    "meta2 = nimare.meta.ale.ALE()\n",
    "meta2.fit(dset)\n",
    "subtraction = nimare.meta.ale.ALESubtraction(n_iters=1000)"
   ]
  },
  {
   "cell_type": "code",
   "execution_count": 3,
   "metadata": {},
   "outputs": [
    {
     "name": "stdout",
     "output_type": "stream",
     "text": [
      "\n",
      "\n",
      "*** Profile printout saved to text file alesubtraction2. \n"
     ]
    }
   ],
   "source": [
    "%mprun -T alesubtraction2 -f nimare.meta.ale.ALESubtraction._fit subtraction.fit(meta1, meta2)"
   ]
  },
  {
   "cell_type": "code",
   "execution_count": 4,
   "metadata": {},
   "outputs": [
    {
     "name": "stdout",
     "output_type": "stream",
     "text": [
      "Filename: /Users/tsalo/Documents/tsalo/NiMARE/nimare/meta/ale.py\n",
      "\n",
      "Line #    Mem usage    Increment   Line Contents\n",
      "================================================\n",
      "   450    330.5 MiB    330.5 MiB       def _fit(self, meta1, meta2):\n",
      "   451    330.5 MiB      0.0 MiB           assert np.array_equal(\n",
      "   452    330.5 MiB      0.0 MiB               meta1.dataset.masker.mask_img.affine, meta2.dataset.masker.mask_img.affine\n",
      "   453                                     )\n",
      "   454    330.5 MiB      0.0 MiB           self.masker = meta1.dataset.masker\n",
      "   455                             \n",
      "   456    330.5 MiB      0.0 MiB           ma_maps1 = meta1.kernel_transformer.transform(\n",
      "   457    309.9 MiB      0.0 MiB               meta1.inputs_[\"coordinates\"], masker=self.masker, return_type=\"array\"\n",
      "   458                                     )\n",
      "   459                             \n",
      "   460    309.9 MiB      0.0 MiB           ma_maps2 = meta2.kernel_transformer.transform(\n",
      "   461    346.5 MiB     36.7 MiB               meta2.inputs_[\"coordinates\"], masker=self.masker, return_type=\"array\"\n",
      "   462                                     )\n",
      "   463                             \n",
      "   464    346.5 MiB      0.0 MiB           n_grp1 = ma_maps1.shape[0]\n",
      "   465    419.7 MiB     73.2 MiB           ma_arr = np.vstack((ma_maps1, ma_maps2))\n",
      "   466    419.7 MiB      0.0 MiB           id_idx = np.arange(ma_arr.shape[0])\n",
      "   467    419.7 MiB      0.0 MiB           n_voxels = ma_arr.shape[1]\n",
      "   468                             \n",
      "   469                                     # Get ALE values for first group.\n",
      "   470    419.7 MiB      0.0 MiB           grp1_ma_arr = ma_arr[:n_grp1, :]\n",
      "   471    419.7 MiB      0.0 MiB           grp1_ale_values = np.ones(n_voxels)\n",
      "   472    419.7 MiB      0.0 MiB           for i_exp in range(grp1_ma_arr.shape[0]):\n",
      "   473    419.7 MiB      0.0 MiB               grp1_ale_values *= 1.0 - grp1_ma_arr[i_exp, :]\n",
      "   474    419.7 MiB      0.0 MiB           grp1_ale_values = 1 - grp1_ale_values\n",
      "   475                             \n",
      "   476                                     # Get ALE values for second group.\n",
      "   477    419.7 MiB      0.0 MiB           grp2_ma_arr = ma_arr[n_grp1:, :]\n",
      "   478    419.7 MiB      0.0 MiB           grp2_ale_values = np.ones(n_voxels)\n",
      "   479    419.7 MiB      0.0 MiB           for i_exp in range(grp2_ma_arr.shape[0]):\n",
      "   480    419.7 MiB      0.0 MiB               grp2_ale_values *= 1.0 - grp2_ma_arr[i_exp, :]\n",
      "   481    419.7 MiB      0.0 MiB           grp2_ale_values = 1 - grp2_ale_values\n",
      "   482                             \n",
      "   483    419.7 MiB      0.0 MiB           p_arr = np.ones(n_voxels)\n",
      "   484                             \n",
      "   485    419.7 MiB      0.0 MiB           diff_ale_values = grp1_ale_values - grp2_ale_values\n",
      "   486                             \n",
      "   487    419.7 MiB      0.0 MiB           iter_diff_values = np.zeros((self.n_iters, n_voxels))\n",
      "   488                             \n",
      "   489   2166.2 MiB      0.0 MiB           for i_iter in range(self.n_iters):\n",
      "   490   2164.5 MiB      0.0 MiB               np.random.shuffle(id_idx)\n",
      "   491   2164.5 MiB      0.0 MiB               iter_grp1_ale_values = np.ones(n_voxels)\n",
      "   492   2164.5 MiB      0.0 MiB               for j_exp in id_idx[:n_grp1]:\n",
      "   493   2164.5 MiB      1.7 MiB                   iter_grp1_ale_values *= 1.0 - ma_arr[j_exp, :]\n",
      "   494   2164.5 MiB      0.0 MiB               iter_grp1_ale_values = 1 - iter_grp1_ale_values\n",
      "   495                             \n",
      "   496   2164.5 MiB      0.0 MiB               iter_grp2_ale_values = np.ones(n_voxels)\n",
      "   497   2164.5 MiB      0.0 MiB               for j_exp in id_idx[n_grp1:]:\n",
      "   498   2164.5 MiB      1.7 MiB                   iter_grp2_ale_values *= 1.0 - ma_arr[j_exp, :]\n",
      "   499   2164.5 MiB      0.0 MiB               iter_grp2_ale_values = 1 - iter_grp2_ale_values\n",
      "   500                             \n",
      "   501   2166.2 MiB      1.7 MiB               iter_diff_values[i_iter, :] = iter_grp1_ale_values - iter_grp2_ale_values\n",
      "   502                             \n",
      "   503   2166.2 MiB      0.0 MiB           for voxel in range(n_voxels):\n",
      "   504   2166.2 MiB      0.0 MiB               p_arr[voxel] = null_to_p(\n",
      "   505   2166.2 MiB      0.0 MiB                   diff_ale_values[voxel], iter_diff_values[:, voxel], tail=\"two\"\n",
      "   506                                         )\n",
      "   507   1687.3 MiB      0.0 MiB           diff_signs = np.sign(diff_ale_values - np.median(iter_diff_values, axis=0))\n",
      "   508   1690.9 MiB      3.6 MiB           z_arr = p_to_z(p_arr, tail=\"two\") * diff_signs\n",
      "   509                             \n",
      "   510   1690.9 MiB      0.0 MiB           images = {\"z_desc-group1MinusGroup2\": z_arr}\n",
      "   511   1690.9 MiB      0.0 MiB           return images\n"
     ]
    }
   ],
   "source": [
    "print(open('alesubtraction2', 'r').read())"
   ]
  },
  {
   "cell_type": "code",
   "execution_count": 5,
   "metadata": {},
   "outputs": [
    {
     "name": "stdout",
     "output_type": "stream",
     "text": [
      "Filename: /Users/tsalo/Documents/tsalo/NiMARE/nimare/meta/ale.py\n",
      "\n",
      "Line #    Mem usage    Increment   Line Contents\n",
      "================================================\n",
      "   450    330.5 MiB    330.5 MiB       def _fit(self, meta1, meta2):\n",
      "   451    330.5 MiB      0.0 MiB           assert np.array_equal(\n",
      "   452    330.5 MiB      0.0 MiB               meta1.dataset.masker.mask_img.affine, meta2.dataset.masker.mask_img.affine\n",
      "   453                                     )\n",
      "   454    330.5 MiB      0.0 MiB           self.masker = meta1.dataset.masker\n",
      "   455                             \n",
      "   456    330.5 MiB      0.0 MiB           ma_maps1 = meta1.kernel_transformer.transform(\n",
      "   457    309.8 MiB      0.0 MiB               meta1.inputs_[\"coordinates\"], masker=self.masker, return_type=\"array\"\n",
      "   458                                     )\n",
      "   459                             \n",
      "   460    309.8 MiB      0.0 MiB           ma_maps2 = meta2.kernel_transformer.transform(\n",
      "   461    346.5 MiB     36.7 MiB               meta2.inputs_[\"coordinates\"], masker=self.masker, return_type=\"array\"\n",
      "   462                                     )\n",
      "   463                             \n",
      "   464    346.5 MiB      0.0 MiB           n_grp1 = ma_maps1.shape[0]\n",
      "   465    419.7 MiB     73.2 MiB           ma_arr = np.vstack((ma_maps1, ma_maps2))\n",
      "   466                             \n",
      "   467    419.7 MiB      0.0 MiB           id_idx = np.arange(ma_arr.shape[0])\n",
      "   468                             \n",
      "   469                                     # Get MA values for both samples.\n",
      "   470    419.7 MiB      0.0 MiB           n_voxels = ma_arr.shape[1]\n",
      "   471                             \n",
      "   472                                     # Get ALE values for first group.\n",
      "   473    419.7 MiB      0.0 MiB           grp1_ma_arr = ma_arr[:n_grp1, :]\n",
      "   474    419.7 MiB      0.0 MiB           grp1_ale_values = np.ones(n_voxels)\n",
      "   475    419.7 MiB      0.0 MiB           for i_exp in range(grp1_ma_arr.shape[0]):\n",
      "   476    419.7 MiB      0.0 MiB               grp1_ale_values *= 1.0 - grp1_ma_arr[i_exp, :]\n",
      "   477    419.7 MiB      0.0 MiB           grp1_ale_values = 1 - grp1_ale_values\n",
      "   478                             \n",
      "   479                                     # Get ALE values for second group.\n",
      "   480    419.7 MiB      0.0 MiB           grp2_ma_arr = ma_arr[n_grp1:, :]\n",
      "   481    419.7 MiB      0.0 MiB           grp2_ale_values = np.ones(n_voxels)\n",
      "   482    419.7 MiB      0.0 MiB           for i_exp in range(grp2_ma_arr.shape[0]):\n",
      "   483    419.7 MiB      0.0 MiB               grp2_ale_values *= 1.0 - grp2_ma_arr[i_exp, :]\n",
      "   484    419.7 MiB      0.0 MiB           grp2_ale_values = 1 - grp2_ale_values\n",
      "   485                             \n",
      "   486    419.7 MiB      0.0 MiB           p_arr = np.ones(n_voxels)\n",
      "   487                             \n",
      "   488    419.7 MiB      0.0 MiB           diff_ale_values = grp1_ale_values - grp2_ale_values\n",
      "   489                             \n",
      "   490    419.7 MiB      0.0 MiB           iter_diff_values = np.zeros((self.n_iters, n_voxels))\n",
      "   491                             \n",
      "   492    597.6 MiB      0.0 MiB           for i_iter in range(self.n_iters):\n",
      "   493    595.8 MiB      0.0 MiB               np.random.shuffle(id_idx)\n",
      "   494    595.8 MiB      0.0 MiB               iter_grp1_ale_values = np.ones(n_voxels)\n",
      "   495    595.8 MiB      0.0 MiB               for j_exp in id_idx[:n_grp1]:\n",
      "   496    595.8 MiB      1.7 MiB                   iter_grp1_ale_values *= 1.0 - ma_arr[j_exp, :]\n",
      "   497    595.8 MiB      0.0 MiB               iter_grp1_ale_values = 1 - iter_grp1_ale_values\n",
      "   498                             \n",
      "   499    595.8 MiB      0.0 MiB               iter_grp2_ale_values = np.ones(n_voxels)\n",
      "   500    595.8 MiB      0.0 MiB               for j_exp in id_idx[n_grp1:]:\n",
      "   501    595.8 MiB      1.7 MiB                   iter_grp2_ale_values *= 1.0 - ma_arr[j_exp, :]\n",
      "   502    595.8 MiB      0.0 MiB               iter_grp2_ale_values = 1 - iter_grp2_ale_values\n",
      "   503                             \n",
      "   504    597.6 MiB      1.7 MiB               iter_diff_values[i_iter, :] = iter_grp1_ale_values - iter_grp2_ale_values\n",
      "   505                             \n",
      "   506    597.6 MiB      0.0 MiB           for voxel in range(n_voxels):\n",
      "   507    597.6 MiB      0.0 MiB               p_arr[voxel] = null_to_p(\n",
      "   508    597.6 MiB      0.0 MiB                   diff_ale_values[voxel], iter_diff_values[:, voxel], tail=\"two\"\n",
      "   509                                         )\n",
      "   510    599.3 MiB      1.8 MiB           diff_signs = np.sign(diff_ale_values - np.median(iter_diff_values, axis=0))\n",
      "   511    602.8 MiB      3.5 MiB           z_arr = p_to_z(p_arr, tail=\"two\") * diff_signs\n",
      "   512                             \n",
      "   513    602.8 MiB      0.0 MiB           images = {\"z_desc-group1MinusGroup2\": z_arr}\n",
      "   514    602.8 MiB      0.0 MiB           return images\n"
     ]
    }
   ],
   "source": [
    "print(open('alesubtraction1', 'r').read())"
   ]
  },
  {
   "cell_type": "code",
   "execution_count": 6,
   "metadata": {},
   "outputs": [
    {
     "name": "stdout",
     "output_type": "stream",
     "text": [
      "Filename: /Users/tsalo/Documents/tsalo/NiMARE/nimare/meta/ale.py\n",
      "\n",
      "Line #    Mem usage    Increment   Line Contents\n",
      "================================================\n",
      "   450    355.9 MiB    355.9 MiB       def _fit(self, meta1, meta2):\n",
      "   451    355.9 MiB      0.0 MiB           assert np.array_equal(\n",
      "   452    355.9 MiB      0.0 MiB               meta1.dataset.masker.mask_img.affine, meta2.dataset.masker.mask_img.affine\n",
      "   453                                     )\n",
      "   454    355.9 MiB      0.0 MiB           self.masker = meta1.dataset.masker\n",
      "   455                             \n",
      "   456    355.9 MiB      0.0 MiB           ma_maps1 = meta1.kernel_transformer.transform(\n",
      "   457    410.8 MiB     54.9 MiB               meta1.inputs_[\"coordinates\"], masker=self.masker, return_type=\"image\"\n",
      "   458                                     )\n",
      "   459                             \n",
      "   460    410.8 MiB      0.0 MiB           ma_maps2 = meta2.kernel_transformer.transform(\n",
      "   461    555.5 MiB    144.6 MiB               meta2.inputs_[\"coordinates\"], masker=self.masker, return_type=\"image\"\n",
      "   462                                     )\n",
      "   463                             \n",
      "   464    555.5 MiB      0.0 MiB           n_grp1 = len(ma_maps1)\n",
      "   465    555.5 MiB      0.0 MiB           ma_maps = ma_maps1 + ma_maps2\n",
      "   466                             \n",
      "   467    555.5 MiB      0.0 MiB           id_idx = np.arange(len(ma_maps))\n",
      "   468                             \n",
      "   469                                     # Get MA values for both samples.\n",
      "   470    853.1 MiB    297.6 MiB           ma_arr = self.masker.transform(ma_maps)\n",
      "   471    853.1 MiB      0.0 MiB           n_voxels = ma_arr.shape[1]\n",
      "   472                             \n",
      "   473                                     # Get ALE values for first group.\n",
      "   474    853.1 MiB      0.0 MiB           grp1_ma_arr = ma_arr[:n_grp1, :]\n",
      "   475    853.1 MiB      0.0 MiB           grp1_ale_values = np.ones(n_voxels)\n",
      "   476    853.1 MiB      0.0 MiB           for i_exp in range(grp1_ma_arr.shape[0]):\n",
      "   477    853.1 MiB      0.0 MiB               grp1_ale_values *= 1.0 - grp1_ma_arr[i_exp, :]\n",
      "   478    853.1 MiB      0.0 MiB           grp1_ale_values = 1 - grp1_ale_values\n",
      "   479                             \n",
      "   480                                     # Get ALE values for second group.\n",
      "   481    853.1 MiB      0.0 MiB           grp2_ma_arr = ma_arr[n_grp1:, :]\n",
      "   482    853.1 MiB      0.0 MiB           grp2_ale_values = np.ones(n_voxels)\n",
      "   483    853.1 MiB      0.0 MiB           for i_exp in range(grp2_ma_arr.shape[0]):\n",
      "   484    853.1 MiB      0.0 MiB               grp2_ale_values *= 1.0 - grp2_ma_arr[i_exp, :]\n",
      "   485    853.1 MiB      0.0 MiB           grp2_ale_values = 1 - grp2_ale_values\n",
      "   486                             \n",
      "   487    853.1 MiB      0.0 MiB           p_arr = np.ones(n_voxels)\n",
      "   488                             \n",
      "   489    854.8 MiB      1.7 MiB           diff_ale_values = grp1_ale_values - grp2_ale_values\n",
      "   490                             \n",
      "   491    854.8 MiB      0.0 MiB           iter_diff_values = np.zeros((self.n_iters, n_voxels))\n",
      "   492                             \n",
      "   493   1034.3 MiB      0.0 MiB           for i_iter in range(self.n_iters):\n",
      "   494   1032.6 MiB      0.0 MiB               np.random.shuffle(id_idx)\n",
      "   495   1032.6 MiB      1.7 MiB               iter_grp1_ale_values = np.ones(n_voxels)\n",
      "   496   1032.6 MiB      0.0 MiB               for j_exp in id_idx[:n_grp1]:\n",
      "   497   1032.6 MiB      1.7 MiB                   iter_grp1_ale_values *= 1.0 - ma_arr[j_exp, :]\n",
      "   498   1032.6 MiB      0.0 MiB               iter_grp1_ale_values = 1 - iter_grp1_ale_values\n",
      "   499                             \n",
      "   500   1032.6 MiB      0.0 MiB               iter_grp2_ale_values = np.ones(n_voxels)\n",
      "   501   1032.6 MiB      0.0 MiB               for j_exp in id_idx[n_grp1:]:\n",
      "   502   1032.6 MiB      1.7 MiB                   iter_grp2_ale_values *= 1.0 - ma_arr[j_exp, :]\n",
      "   503   1032.6 MiB      0.0 MiB               iter_grp2_ale_values = 1 - iter_grp2_ale_values\n",
      "   504                             \n",
      "   505   1034.3 MiB      1.7 MiB               iter_diff_values[i_iter, :] = iter_grp1_ale_values - iter_grp2_ale_values\n",
      "   506                             \n",
      "   507   1034.3 MiB      0.0 MiB           for voxel in range(n_voxels):\n",
      "   508   1034.3 MiB      0.0 MiB               p_arr[voxel] = null_to_p(\n",
      "   509   1034.3 MiB      0.0 MiB                   diff_ale_values[voxel], iter_diff_values[:, voxel], tail=\"two\"\n",
      "   510                                         )\n",
      "   511   1036.1 MiB      1.7 MiB           diff_signs = np.sign(diff_ale_values - np.median(iter_diff_values, axis=0))\n",
      "   512   1039.6 MiB      3.5 MiB           z_arr = p_to_z(p_arr, tail=\"two\") * diff_signs\n",
      "   513                             \n",
      "   514   1039.6 MiB      0.0 MiB           images = {\"z_desc-group1MinusGroup2\": z_arr}\n",
      "   515   1039.6 MiB      0.0 MiB           return images\n"
     ]
    }
   ],
   "source": [
    "# maxing out around 1039.6 MiB\n",
    "print(open('alesubtraction0', 'r').read())"
   ]
  },
  {
   "cell_type": "code",
   "execution_count": 7,
   "metadata": {},
   "outputs": [
    {
     "data": {
      "text/plain": [
       "21"
      ]
     },
     "execution_count": 7,
     "metadata": {},
     "output_type": "execute_result"
    }
   ],
   "source": [
    "len(dset.ids)"
   ]
  },
  {
   "cell_type": "code",
   "execution_count": null,
   "metadata": {},
   "outputs": [],
   "source": []
  }
 ],
 "metadata": {
  "kernelspec": {
   "display_name": "Python [conda env:python3]",
   "language": "python",
   "name": "conda-env-python3-py"
  },
  "language_info": {
   "codemirror_mode": {
    "name": "ipython",
    "version": 3
   },
   "file_extension": ".py",
   "mimetype": "text/x-python",
   "name": "python",
   "nbconvert_exporter": "python",
   "pygments_lexer": "ipython3",
   "version": "3.6.4"
  }
 },
 "nbformat": 4,
 "nbformat_minor": 2
}
