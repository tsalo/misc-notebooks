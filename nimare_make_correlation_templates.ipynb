{
 "cells": [
  {
   "cell_type": "markdown",
   "metadata": {},
   "source": [
    "# Make correlation templates for SDM"
   ]
  },
  {
   "cell_type": "code",
   "execution_count": 1,
   "metadata": {},
   "outputs": [],
   "source": [
    "import nibabel as nib\n",
    "import numpy as np\n",
    "from nilearn import datasets, image"
   ]
  },
  {
   "cell_type": "code",
   "execution_count": 2,
   "metadata": {},
   "outputs": [
    {
     "name": "stderr",
     "output_type": "stream",
     "text": [
      "/Users/taylor/Documents/tsalo/nilearn/nilearn/datasets/struct.py:774: UserWarning: `legacy_format` will default to `False` in release 0.11. Dataset fetchers will then return pandas dataframes by default instead of recarrays.\n",
      "  warnings.warn(_LEGACY_FORMAT_MSG)\n"
     ]
    }
   ],
   "source": [
    "data = datasets.fetch_oasis_vbm()"
   ]
  },
  {
   "cell_type": "code",
   "execution_count": 3,
   "metadata": {},
   "outputs": [],
   "source": [
    "img_4d = image.concat_imgs(data[\"gray_matter_maps\"])"
   ]
  },
  {
   "cell_type": "code",
   "execution_count": 4,
   "metadata": {},
   "outputs": [
    {
     "data": {
      "text/plain": [
       "(91, 109, 91, 403)"
      ]
     },
     "execution_count": 4,
     "metadata": {},
     "output_type": "execute_result"
    }
   ],
   "source": [
    "img_4d.shape"
   ]
  },
  {
   "cell_type": "code",
   "execution_count": 5,
   "metadata": {},
   "outputs": [
    {
     "name": "stderr",
     "output_type": "stream",
     "text": [
      "/opt/miniconda3/lib/python3.8/site-packages/numpy/lib/function_base.py:2691: RuntimeWarning: invalid value encountered in true_divide\n",
      "  c /= stddev[:, None]\n",
      "/opt/miniconda3/lib/python3.8/site-packages/numpy/lib/function_base.py:2692: RuntimeWarning: invalid value encountered in true_divide\n",
      "  c /= stddev[None, :]\n"
     ]
    }
   ],
   "source": [
    "img_4d_data = img_4d.get_fdata()\n",
    "corr_4d = np.zeros(img_4d.shape[:3] + (3,))\n",
    "img_4d_data_std = np.std(img_4d_data, axis=3)\n",
    "xyz = np.vstack(np.where(img_4d_data_std)).T\n",
    "\n",
    "for dim in range(3):\n",
    "    for coord in range(xyz.shape[0]):\n",
    "        x, y, z = xyz[coord, :]\n",
    "        if dim == 0:\n",
    "            x_s, y_s, z_s = x + 1, y, z\n",
    "        elif dim == 1:\n",
    "            x_s, y_s, z_s = x, y + 1, z\n",
    "        elif dim == 2:\n",
    "            x_s, y_s, z_s = x, y, z + 1\n",
    "\n",
    "        if (x_s >= img_4d_data.shape[0]) or (y_s >= img_4d_data.shape[1]) or (z_s >= img_4d_data.shape[2]):\n",
    "            corr = 0\n",
    "        else:\n",
    "            static_1d = img_4d_data[x, y, z, :]\n",
    "            shifted_1d = img_4d_data[x_s, y_s, z_s, :]\n",
    "            corr = np.corrcoef(static_1d, shifted_1d)[0, 1]\n",
    "        \n",
    "        corr_4d[x, y, z, dim] = corr\n",
    "\n",
    "corr_4d[np.isnan(corr_4d)] = 0"
   ]
  },
  {
   "cell_type": "code",
   "execution_count": 6,
   "metadata": {},
   "outputs": [],
   "source": [
    "corr_img = nib.Nifti1Image(corr_4d, img_4d.affine, img_4d.header)\n",
    "corr_img.to_filename(\"gray_matter_correlations.nii.gz\")"
   ]
  }
 ],
 "metadata": {
  "kernelspec": {
   "display_name": "Python 3",
   "language": "python",
   "name": "python3"
  },
  "language_info": {
   "codemirror_mode": {
    "name": "ipython",
    "version": 3
   },
   "file_extension": ".py",
   "mimetype": "text/x-python",
   "name": "python",
   "nbconvert_exporter": "python",
   "pygments_lexer": "ipython3",
   "version": "3.8.5"
  }
 },
 "nbformat": 4,
 "nbformat_minor": 4
}
