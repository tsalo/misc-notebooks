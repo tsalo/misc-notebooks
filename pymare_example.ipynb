{
 "cells": [
  {
   "cell_type": "code",
   "execution_count": 1,
   "metadata": {},
   "outputs": [
    {
     "name": "stderr",
     "output_type": "stream",
     "text": [
      "In /Users/tsalo/anaconda/envs/python3/lib/python3.6/site-packages/matplotlib/mpl-data/stylelib/_classic_test.mplstyle: \n",
      "The savefig.frameon rcparam was deprecated in Matplotlib 3.1 and will be removed in 3.3.\n",
      "In /Users/tsalo/anaconda/envs/python3/lib/python3.6/site-packages/matplotlib/mpl-data/stylelib/_classic_test.mplstyle: \n",
      "The verbose.level rcparam was deprecated in Matplotlib 3.1 and will be removed in 3.3.\n",
      "In /Users/tsalo/anaconda/envs/python3/lib/python3.6/site-packages/matplotlib/mpl-data/stylelib/_classic_test.mplstyle: \n",
      "The verbose.fileo rcparam was deprecated in Matplotlib 3.1 and will be removed in 3.3.\n"
     ]
    }
   ],
   "source": [
    "%matplotlib inline"
   ]
  },
  {
   "cell_type": "code",
   "execution_count": 61,
   "metadata": {},
   "outputs": [],
   "source": [
    "import numpy as np\n",
    "import matplotlib.pyplot as plt\n",
    "from scipy import stats\n",
    "import seaborn as sns\n",
    "\n",
    "from nimare.transforms import t_to_z\n",
    "\n",
    "import pymare"
   ]
  },
  {
   "cell_type": "code",
   "execution_count": 94,
   "metadata": {},
   "outputs": [],
   "source": [
    "n_studies = 40\n",
    "between_study_var = 30\n",
    "true_effect = 20\n",
    "sample_sizes = np.round(np.random.normal(loc=50, scale=20, size=n_studies)).astype(int)\n",
    "within_study_vars = np.random.normal(loc=30, scale=20, size=n_studies)\n",
    "study_means = np.random.normal(loc=true_effect, scale=between_study_var, size=n_studies)\n",
    "\n",
    "sample_sizes[sample_sizes <= 1] = 2\n",
    "within_study_vars = np.abs(within_study_vars)"
   ]
  },
  {
   "cell_type": "code",
   "execution_count": 95,
   "metadata": {},
   "outputs": [],
   "source": [
    "y = study_means\n",
    "X = np.ones((n_studies, 2)) * np.random.random((n_studies, 2))\n",
    "v = within_study_vars\n",
    "n = sample_sizes\n",
    "t = y / np.sqrt(v)\n",
    "z = np.array([t_to_z(t[i], sample_sizes[i] - 1) for i in range(n_studies)])\n",
    "p = stats.norm.sf(abs(z)) * 2"
   ]
  },
  {
   "cell_type": "code",
   "execution_count": 125,
   "metadata": {},
   "outputs": [
    {
     "name": "stderr",
     "output_type": "stream",
     "text": [
      "/Users/tsalo/anaconda/envs/python3/lib/python3.6/site-packages/ipykernel/__main__.py:10: UserWarning: Matplotlib is currently using module://ipykernel.pylab.backend_inline, which is a non-GUI backend, so cannot show the figure.\n"
     ]
    },
    {
     "data": {
      "image/png": "[encoded data removed]",
      "text/plain": [
       "<Figure size 576x1152 with 1 Axes>"
      ]
     },
     "metadata": {},
     "output_type": "display_data"
    }
   ],
   "source": [
    "fig, ax = plt.subplots(figsize=(8, 16))\n",
    "study_ticks = np.arange(n_studies)\n",
    "ax.scatter(y, study_ticks+1)\n",
    "for study in study_ticks:\n",
    "    ax.plot((y[study] - v[study], y[study] + v[study]), (study+1, study+1), color='blue')\n",
    "ax.axvline(0, color='gray', alpha=0.2)\n",
    "ax.set_ylim((0, n_studies+1))\n",
    "ax.set_xlabel('Parameter Estimate')\n",
    "ax.set_ylabel('Study')\n",
    "fig.show()"
   ]
  },
  {
   "cell_type": "markdown",
   "metadata": {},
   "source": [
    "Let's fit a model."
   ]
  },
  {
   "cell_type": "code",
   "execution_count": 115,
   "metadata": {},
   "outputs": [],
   "source": [
    "stouff = pymare.estimators.Stouffers(input='z')\n",
    "stouff.fit(y=z)\n",
    "summary = stouff.summary()"
   ]
  },
  {
   "cell_type": "code",
   "execution_count": 127,
   "metadata": {},
   "outputs": [
    {
     "name": "stdout",
     "output_type": "stream",
     "text": [
      "None\n"
     ]
    }
   ],
   "source": [
    "print(summary.dataset)"
   ]
  },
  {
   "cell_type": "code",
   "execution_count": 126,
   "metadata": {},
   "outputs": [
    {
     "name": "stdout",
     "output_type": "stream",
     "text": [
      "z: 23.68478062610823\n",
      "p: 1.0\n"
     ]
    }
   ],
   "source": [
    "print('z: {}'.format(summary.z))\n",
    "print('p: {}'.format(summary.p))"
   ]
  },
  {
   "cell_type": "code",
   "execution_count": 129,
   "metadata": {},
   "outputs": [],
   "source": []
  },
  {
   "cell_type": "code",
   "execution_count": null,
   "metadata": {},
   "outputs": [],
   "source": []
  }
 ],
 "metadata": {
  "kernelspec": {
   "display_name": "Python [conda env:python3]",
   "language": "python",
   "name": "conda-env-python3-py"
  },
  "language_info": {
   "codemirror_mode": {
    "name": "ipython",
    "version": 3
   },
   "file_extension": ".py",
   "mimetype": "text/x-python",
   "name": "python",
   "nbconvert_exporter": "python",
   "pygments_lexer": "ipython3",
   "version": "3.6.4"
  }
 },
 "nbformat": 4,
 "nbformat_minor": 2
}
