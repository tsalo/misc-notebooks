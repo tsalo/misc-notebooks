{
 "cells": [
  {
   "cell_type": "code",
   "execution_count": 2,
   "metadata": {},
   "outputs": [],
   "source": [
    "import re"
   ]
  },
  {
   "cell_type": "code",
   "execution_count": 27,
   "metadata": {},
   "outputs": [
    {
     "name": "stdout",
     "output_type": "stream",
     "text": [
      ":metadata:`Anaesthesia`\n",
      "metadata\n",
      "Anaesthesia\n",
      "Anaesthesia\n",
      "\n",
      ":metadata:`AnatomicalLandmarkCoordinates <AnatomicalLandmarkCoordinates__mri>`\n",
      "metadata\n",
      "AnatomicalLandmarkCoordinates\n",
      "AnatomicalLandmarkCoordinates__mri\n",
      "\n"
     ]
    }
   ],
   "source": [
    "text = (\n",
    "    'There can be a field named :metadata:`Anaesthesia` or '\n",
    "    ':metadata:`AnatomicalLandmarkCoordinates <AnatomicalLandmarkCoordinates__mri>`'\n",
    ")\n",
    "regex = \"(:(.*?):`(.*?)`)\"\n",
    "regex2 = \"<(.*?)>\"\n",
    "all_terms = re.findall(regex, text)\n",
    "for found_term in all_terms:\n",
    "    full_match, term_type, term_info = found_term\n",
    "    target_patterns = re.findall(regex2, term_info)\n",
    "    if target_patterns:\n",
    "        target_term = target_patterns[0]\n",
    "        term_string = re.sub(r\"\\<%s>$\" % target_term, \"\", term_info).rstrip()\n",
    "    else:\n",
    "        term_string = term_info\n",
    "        target_term = term_info\n",
    "    \n",
    "    print(full_match)\n",
    "    print(term_type)\n",
    "    print(term_string)\n",
    "    print(target_term)\n",
    "    print()"
   ]
  },
  {
   "cell_type": "code",
   "execution_count": 43,
   "metadata": {},
   "outputs": [
    {
     "name": "stdout",
     "output_type": "stream",
     "text": [
      "[]\n",
      "[]\n",
      "[]\n",
      "['objects.metadata.AnatomicalLandmarkCoordinateUnits']\n",
      "[]\n",
      "[]\n"
     ]
    }
   ],
   "source": [
    "# Now to figure out how to get anchor names\n",
    "text = \"\"\"Stuff is here\n",
    "\n",
    "here is more stuff\n",
    "<a name=\"objects.metadata.AnatomicalLandmarkCoordinateUnits\"></a>\n",
    "also stuff\n",
    "\"\"\"\n",
    "\n",
    "regex = '<a name=\"(.*)?\"><\\/a>'\n",
    "\n",
    "for line in text.split(\"\\n\"):\n",
    "    print(re.findall(regex, line))"
   ]
  },
  {
   "cell_type": "code",
   "execution_count": 42,
   "metadata": {},
   "outputs": [
    {
     "data": {
      "text/plain": [
       "[]"
      ]
     },
     "execution_count": 42,
     "metadata": {},
     "output_type": "execute_result"
    }
   ],
   "source": [
    "re.findall(regex, '<a namme=\"objects.metadata.AnatomicalLandmarkCoordinateUnits\"></a>')"
   ]
  },
  {
   "cell_type": "code",
   "execution_count": null,
   "metadata": {},
   "outputs": [],
   "source": []
  }
 ],
 "metadata": {
  "kernelspec": {
   "display_name": "Python 3",
   "language": "python",
   "name": "python3"
  },
  "language_info": {
   "codemirror_mode": {
    "name": "ipython",
    "version": 3
   },
   "file_extension": ".py",
   "mimetype": "text/x-python",
   "name": "python",
   "nbconvert_exporter": "python",
   "pygments_lexer": "ipython3",
   "version": "3.8.5"
  }
 },
 "nbformat": 4,
 "nbformat_minor": 4
}
