{
 "cells": [
  {
   "cell_type": "code",
   "execution_count": 1,
   "metadata": {},
   "outputs": [],
   "source": [
    "%load_ext memory_profiler\n",
    "%load_ext line_profiler"
   ]
  },
  {
   "cell_type": "code",
   "execution_count": 2,
   "metadata": {},
   "outputs": [
    {
     "name": "stderr",
     "output_type": "stream",
     "text": [
      "INFO:nimare.annotate.text:Retaining 14369/14371 studies\n"
     ]
    }
   ],
   "source": [
    "import nimare as nim\n",
    "from nimare import annotate\n",
    "\n",
    "dset = nim.dataset.Dataset.load(\n",
    "    '/Users/taylor/Documents/nbc/nimare-paper/data/neurosynth_dataset_with_abstracts.pkl.gz'\n",
    ")\n",
    "texts_df = dset.texts\n",
    "texts_df = texts_df.reset_index(drop=False)\n",
    "\n",
    "counts_df = annotate.text.generate_counts(\n",
    "    texts_df, \n",
    "    text_column='abstract', \n",
    "    tfidf=False, \n",
    "    max_df=0.1, \n",
    "    min_df=0.05,\n",
    ")\n",
    "coordinates_df = dset.coordinates\n",
    "counts_df = counts_df.iloc[:5000]"
   ]
  },
  {
   "cell_type": "code",
   "execution_count": 3,
   "metadata": {},
   "outputs": [],
   "source": [
    "#%mprun -T gclda_init -f annotate.gclda.GCLDAModel.__init__ model = annotate.gclda.GCLDAModel(counts_df, coordinates_df, mask=dset.masker.mask_img, n_topics=50, symmetric=True, n_regions=2, seed_init=1)"
   ]
  },
  {
   "cell_type": "code",
   "execution_count": 4,
   "metadata": {},
   "outputs": [],
   "source": [
    "#print(open('gclda_init', 'r').read())"
   ]
  },
  {
   "cell_type": "code",
   "execution_count": 5,
   "metadata": {},
   "outputs": [],
   "source": [
    "#%mprun -T gclda -f annotate.gclda.GCLDAModel.fit model.fit(n_iters=1, loglikely_freq=1000)"
   ]
  },
  {
   "cell_type": "code",
   "execution_count": 6,
   "metadata": {},
   "outputs": [],
   "source": [
    "#print(open('gclda', 'r').read())"
   ]
  },
  {
   "cell_type": "code",
   "execution_count": 7,
   "metadata": {},
   "outputs": [
    {
     "name": "stderr",
     "output_type": "stream",
     "text": [
      "INFO:nimare.annotate.gclda:Constructing/Initializing GCLDA Model\n",
      "WARNING:nimare.annotate.gclda:IDs mismatch detected: retaining 5000 of 14371 unique IDs\n"
     ]
    },
    {
     "name": "stdout",
     "output_type": "stream",
     "text": [
      "*** KeyboardInterrupt exception caught in code being profiled.\n",
      "*** Profile printout saved to text file 'gclda_time'. *** KeyboardInterrupt exception caught in code being profiled.\n"
     ]
    }
   ],
   "source": [
    "model = annotate.gclda.GCLDAModel(counts_df, coordinates_df, mask=dset.masker.mask_img, n_topics=50, symmetric=True, n_regions=2, seed_init=1)\n",
    "%lprun -T gclda_time -f annotate.gclda.GCLDAModel._update_peak_assignments model.fit(n_iters=50, loglikely_freq=1000)"
   ]
  },
  {
   "cell_type": "code",
   "execution_count": 8,
   "metadata": {},
   "outputs": [
    {
     "name": "stdout",
     "output_type": "stream",
     "text": [
      "Timer unit: 1e-06 s\n",
      "\n",
      "Total time: 552.325 s\n",
      "File: /Users/taylor/Documents/tsalo/NiMARE/nimare/annotate/gclda.py\n",
      "Function: _update at line 379\n",
      "\n",
      "Line #      Hits         Time  Per Hit   % Time  Line Contents\n",
      "==============================================================\n",
      "   379                                               def _update(self, loglikely_freq=1):\n",
      "   380                                                   \"\"\"Run a complete update cycle (sample z, sample y&r, update regions).\n",
      "   381                                           \n",
      "   382                                                   Parameters\n",
      "   383                                                   ----------\n",
      "   384                                                   loglikely_freq : :obj:`int`, optional\n",
      "   385                                                       The frequency with which log-likelihood is updated. Default value\n",
      "   386                                                       is 1 (log-likelihood is updated every iteration).\n",
      "   387                                                   \"\"\"\n",
      "   388        20         47.0      2.4      0.0          self.iter += 1  # Update total iteration count\n",
      "   389                                           \n",
      "   390        20        259.0     12.9      0.0          LGR.debug(\"Iter {0:04d}: Sampling z\".format(self.iter))\n",
      "   391        20         43.0      2.1      0.0          self.seed += 1\n",
      "   392        20  113113803.0 5655690.2     20.5          self._update_word_topic_assignments(self.seed)  # Update z-assignments\n",
      "   393                                           \n",
      "   394        20        256.0     12.8      0.0          LGR.debug(\"Iter {0:04d}: Sampling y|r\".format(self.iter))\n",
      "   395        20         34.0      1.7      0.0          self.seed += 1\n",
      "   396        20  436627747.0 21831387.4     79.1          self._update_peak_assignments(self.seed)  # Update y-assignments\n",
      "   397                                           \n",
      "   398        19        372.0     19.6      0.0          LGR.debug(\"Iter {0:04d}: Updating spatial params\".format(self.iter))\n",
      "   399        19    2582011.0 135895.3      0.5          self._update_regions()  # Update gaussian estimates for all subregions\n",
      "   400                                           \n",
      "   401                                                   # Only update log-likelihood every 'loglikely_freq' iterations\n",
      "   402                                                   # (Computing log-likelihood isn't necessary and slows things down a bit)\n",
      "   403        19         98.0      5.2      0.0          if self.iter % loglikely_freq == 0:\n",
      "   404                                                       LGR.debug(\"Iter {0:04d}: Computing log-likelihood\".format(self.iter))\n",
      "   405                                           \n",
      "   406                                                       # Compute log-likelihood of model in current state\n",
      "   407                                                       self.compute_log_likelihood()\n",
      "   408                                                       LGR.info(\n",
      "   409                                                           \"Iter {0:04d} Log-likely: x = {1:10.1f}, w = {2:10.1f}, \"\n",
      "   410                                                           \"tot = {3:10.1f}\".format(\n",
      "   411                                                               self.iter,\n",
      "   412                                                               self.loglikelihood[\"x\"][-1],\n",
      "   413                                                               self.loglikelihood[\"w\"][-1],\n",
      "   414                                                               self.loglikelihood[\"total\"][-1],\n",
      "   415                                                           )\n",
      "   416                                                       )\n"
     ]
    }
   ],
   "source": [
    "print(open('gclda_time', 'r').read())"
   ]
  },
  {
   "cell_type": "code",
   "execution_count": 9,
   "metadata": {},
   "outputs": [
    {
     "name": "stdout",
     "output_type": "stream",
     "text": [
      "5\n",
      "5\n"
     ]
    }
   ],
   "source": [
    "import numpy as np\n",
    "p = np.random.random(100)\n",
    "p[5] = 1000\n",
    "p = p / np.sum(p)\n",
    "idx = np.random.choice(a=np.arange(100), size=1, p=p)[0]\n",
    "idx2 = np.where(np.random.multinomial(1, p))[0][0]\n",
    "print(idx)\n",
    "print(idx2)\n",
    "p_peak_g_topic = np.random.random(10000)"
   ]
  },
  {
   "cell_type": "code",
   "execution_count": 10,
   "metadata": {},
   "outputs": [
    {
     "name": "stdout",
     "output_type": "stream",
     "text": [
      "32.4 µs ± 2.98 µs per loop (mean ± std. dev. of 7 runs, 1000 loops each)\n"
     ]
    }
   ],
   "source": [
    "%timeit -n 1000 np.random.choice(a=np.arange(100), size=1, p=p)[0]"
   ]
  },
  {
   "cell_type": "code",
   "execution_count": 11,
   "metadata": {},
   "outputs": [
    {
     "name": "stdout",
     "output_type": "stream",
     "text": [
      "15.7 µs ± 1.49 µs per loop (mean ± std. dev. of 7 runs, 1000 loops each)\n"
     ]
    }
   ],
   "source": [
    "%timeit -n 1000 np.where(np.random.multinomial(1, p))[0][0]"
   ]
  },
  {
   "cell_type": "code",
   "execution_count": 12,
   "metadata": {},
   "outputs": [
    {
     "name": "stdout",
     "output_type": "stream",
     "text": [
      "8.85 µs ± 290 ns per loop (mean ± std. dev. of 7 runs, 100000 loops each)\n"
     ]
    }
   ],
   "source": [
    "%timeit np.tile(p_peak_g_topic, (2, 1))"
   ]
  },
  {
   "cell_type": "code",
   "execution_count": 13,
   "metadata": {},
   "outputs": [
    {
     "name": "stdout",
     "output_type": "stream",
     "text": [
      "9.66 µs ± 528 ns per loop (mean ± std. dev. of 7 runs, 100000 loops each)\n"
     ]
    }
   ],
   "source": [
    "%timeit np.vstack((p_peak_g_topic, p_peak_g_topic))"
   ]
  },
  {
   "cell_type": "code",
   "execution_count": 14,
   "metadata": {},
   "outputs": [
    {
     "name": "stdout",
     "output_type": "stream",
     "text": [
      "7.05 µs ± 345 ns per loop (mean ± std. dev. of 7 runs, 100000 loops each)\n"
     ]
    }
   ],
   "source": [
    "%timeit np.array([p_peak_g_topic] * 2)"
   ]
  },
  {
   "cell_type": "code",
   "execution_count": 15,
   "metadata": {},
   "outputs": [
    {
     "data": {
      "text/plain": [
       "array([[0.41871426, 0.36844783, 0.77029884, ..., 0.4048586 , 0.74305738,\n",
       "        0.02430984],\n",
       "       [0.41871426, 0.36844783, 0.77029884, ..., 0.4048586 , 0.74305738,\n",
       "        0.02430984]])"
      ]
     },
     "execution_count": 15,
     "metadata": {},
     "output_type": "execute_result"
    }
   ],
   "source": [
    "np.array([p_peak_g_topic] * 2)"
   ]
  },
  {
   "cell_type": "code",
   "execution_count": null,
   "metadata": {},
   "outputs": [],
   "source": []
  }
 ],
 "metadata": {
  "kernelspec": {
   "display_name": "Python 3",
   "language": "python",
   "name": "python3"
  },
  "language_info": {
   "codemirror_mode": {
    "name": "ipython",
    "version": 3
   },
   "file_extension": ".py",
   "mimetype": "text/x-python",
   "name": "python",
   "nbconvert_exporter": "python",
   "pygments_lexer": "ipython3",
   "version": "3.8.5"
  }
 },
 "nbformat": 4,
 "nbformat_minor": 2
}
