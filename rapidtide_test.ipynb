{
 "cells": [
  {
   "cell_type": "code",
   "execution_count": 3,
   "metadata": {},
   "outputs": [],
   "source": [
    "from nilearn import datasets, masking, plotting\n",
    "import pandas as pd\n",
    "\n",
    "data = datasets.fetch_development_fmri(n_subjects=1, age_group=\"adult\")\n",
    "# Functional scan is\n",
    "# /Users/taylor/nilearn_data/development_fmri/development_fmri/sub-pixar123_task-pixar_space-MNI152NLin2009cAsym_desc-preproc_bold.nii.gz\n",
    "\n",
    "# Create a mask from the functional scan\n",
    "mask = \"/Users/taylor/Desktop/rapidtide_test/brainmask.nii.gz\"\n",
    "mask_img = masking.compute_epi_mask(data.func[0])\n",
    "mask_img.to_filename(mask)"
   ]
  },
  {
   "cell_type": "code",
   "execution_count": 2,
   "metadata": {},
   "outputs": [
    {
     "name": "stdout",
     "output_type": "stream",
     "text": [
      "Process is interrupted.\n"
     ]
    }
   ],
   "source": [
    "%%bash\n",
    "rapidtide \\\n",
    "    /Users/taylor/nilearn_data/development_fmri/development_fmri/sub-pixar123_task-pixar_space-MNI152NLin2009cAsym_desc-preproc_bold.nii.gz \\\n",
    "    /Users/taylor/Desktop/rapidtide_test/ \\\n",
    "    --denoising --noprogressbar --datatstep 2 \\\n",
    "    --corrmask /Users/taylor/Desktop/rapidtide_test/brainmask.nii.gz \\\n",
    "    --globalmeaninclude /Users/taylor/Desktop/rapidtide_test/brainmask.nii.gz"
   ]
  },
  {
   "cell_type": "code",
   "execution_count": null,
   "metadata": {},
   "outputs": [],
   "source": []
  }
 ],
 "metadata": {
  "kernelspec": {
   "display_name": "Python 3",
   "language": "python",
   "name": "python3"
  },
  "language_info": {
   "codemirror_mode": {
    "name": "ipython",
    "version": 3
   },
   "file_extension": ".py",
   "mimetype": "text/x-python",
   "name": "python",
   "nbconvert_exporter": "python",
   "pygments_lexer": "ipython3",
   "version": "3.8.5"
  }
 },
 "nbformat": 4,
 "nbformat_minor": 4
}
