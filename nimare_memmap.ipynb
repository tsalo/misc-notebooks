{
 "cells": [
  {
   "cell_type": "code",
   "execution_count": 1,
   "metadata": {},
   "outputs": [],
   "source": [
    "%load_ext memory_profiler"
   ]
  },
  {
   "cell_type": "code",
   "execution_count": 2,
   "metadata": {},
   "outputs": [],
   "source": [
    "import os.path as op\n",
    "import nimare\n",
    "from nimare.meta import ale\n",
    "from nimare.tests.utils import get_test_data_path\n",
    "dset = nimare.dataset.Dataset(op.join(get_test_data_path(), 'nidm_pain_dset.json'))\n",
    "meta1 = nimare.meta.ale.ALE()\n",
    "meta1.fit(dset)\n",
    "meta2 = nimare.meta.ale.ALE()\n",
    "meta2.fit(dset)\n",
    "subtraction_high_mem = nimare.meta.ale.ALESubtraction(n_iters=1000, low_memory=False)\n",
    "subtraction_low_mem = nimare.meta.ale.ALESubtraction(n_iters=1000, low_memory=True)"
   ]
  },
  {
   "cell_type": "code",
   "execution_count": 3,
   "metadata": {},
   "outputs": [
    {
     "name": "stdout",
     "output_type": "stream",
     "text": [
      "\n",
      "\n",
      "*** Profile printout saved to text file alesubtraction_high_mem. \n"
     ]
    }
   ],
   "source": [
    "%mprun -T alesubtraction_high_mem -f nimare.meta.ale.ALESubtraction._fit subtraction_high_mem.fit(meta1, meta2)"
   ]
  },
  {
   "cell_type": "code",
   "execution_count": 4,
   "metadata": {},
   "outputs": [
    {
     "name": "stdout",
     "output_type": "stream",
     "text": [
      "\n",
      "\n",
      "*** Profile printout saved to text file alesubtraction_low_mem. \n"
     ]
    }
   ],
   "source": [
    "%mprun -T alesubtraction_low_mem -f nimare.meta.ale.ALESubtraction._fit subtraction_low_mem.fit(meta1, meta2)"
   ]
  },
  {
   "cell_type": "code",
   "execution_count": 5,
   "metadata": {},
   "outputs": [
    {
     "name": "stdout",
     "output_type": "stream",
     "text": [
      "Filename: /Users/tsalo/Documents/tsalo/NiMARE/nimare/meta/ale.py\n",
      "\n",
      "Line #    Mem usage    Increment   Line Contents\n",
      "================================================\n",
      "   445    330.6 MiB    330.6 MiB       def _fit(self, meta1, meta2):\n",
      "   446    330.6 MiB      0.0 MiB           assert np.array_equal(\n",
      "   447    330.6 MiB      0.0 MiB               meta1.dataset.masker.mask_img.affine, meta2.dataset.masker.mask_img.affine\n",
      "   448                                     )\n",
      "   449    330.6 MiB      0.0 MiB           self.masker = meta1.dataset.masker\n",
      "   450                             \n",
      "   451    330.6 MiB      0.0 MiB           ma_maps1 = meta1.kernel_transformer.transform(\n",
      "   452    309.9 MiB      0.0 MiB               meta1.inputs_[\"coordinates\"], masker=self.masker, return_type=\"array\"\n",
      "   453                                     )\n",
      "   454                             \n",
      "   455    309.9 MiB      0.0 MiB           ma_maps2 = meta2.kernel_transformer.transform(\n",
      "   456    346.6 MiB     36.7 MiB               meta2.inputs_[\"coordinates\"], masker=self.masker, return_type=\"array\"\n",
      "   457                                     )\n",
      "   458                             \n",
      "   459    346.6 MiB      0.0 MiB           n_grp1 = ma_maps1.shape[0]\n",
      "   460    419.8 MiB     73.2 MiB           ma_arr = np.vstack((ma_maps1, ma_maps2))\n",
      "   461    419.8 MiB      0.0 MiB           id_idx = np.arange(ma_arr.shape[0])\n",
      "   462    419.8 MiB      0.0 MiB           n_voxels = ma_arr.shape[1]\n",
      "   463                             \n",
      "   464                                     # Get ALE values for first group.\n",
      "   465    419.8 MiB      0.0 MiB           grp1_ma_arr = ma_arr[:n_grp1, :]\n",
      "   466    419.8 MiB      0.0 MiB           grp1_ale_values = np.ones(n_voxels)\n",
      "   467    419.8 MiB      0.0 MiB           for i_exp in range(grp1_ma_arr.shape[0]):\n",
      "   468    419.8 MiB      0.0 MiB               grp1_ale_values *= 1.0 - grp1_ma_arr[i_exp, :]\n",
      "   469    419.8 MiB      0.0 MiB           grp1_ale_values = 1 - grp1_ale_values\n",
      "   470                             \n",
      "   471                                     # Get ALE values for second group.\n",
      "   472    419.8 MiB      0.0 MiB           grp2_ma_arr = ma_arr[n_grp1:, :]\n",
      "   473    419.8 MiB      0.0 MiB           grp2_ale_values = np.ones(n_voxels)\n",
      "   474    419.8 MiB      0.0 MiB           for i_exp in range(grp2_ma_arr.shape[0]):\n",
      "   475    419.8 MiB      0.0 MiB               grp2_ale_values *= 1.0 - grp2_ma_arr[i_exp, :]\n",
      "   476    419.8 MiB      0.0 MiB           grp2_ale_values = 1 - grp2_ale_values\n",
      "   477                             \n",
      "   478    419.8 MiB      0.0 MiB           p_arr = np.ones(n_voxels)\n",
      "   479                             \n",
      "   480    419.8 MiB      0.0 MiB           diff_ale_values = grp1_ale_values - grp2_ale_values\n",
      "   481                             \n",
      "   482    419.8 MiB      0.0 MiB           if self.low_memory:\n",
      "   483                                         from tempfile import mkdtemp\n",
      "   484                                         filename = os.path.join(mkdtemp(), 'iter_diff_values.dat')\n",
      "   485                                         iter_diff_values = np.memmap(filename, dtype=ma_arr.dtype, mode='w+',\n",
      "   486                                                                      shape=(self.n_iters, n_voxels))\n",
      "   487                                     else:\n",
      "   488    419.8 MiB      0.0 MiB               iter_diff_values = np.zeros((self.n_iters, n_voxels), dtype=ma_arr.dtype)\n",
      "   489                             \n",
      "   490   2166.3 MiB      0.0 MiB           for i_iter in range(self.n_iters):\n",
      "   491   2164.5 MiB      0.0 MiB               np.random.shuffle(id_idx)\n",
      "   492   2164.5 MiB      0.0 MiB               iter_grp1_ale_values = np.ones(n_voxels, dtype=ma_arr.dtype)\n",
      "   493   2164.5 MiB      0.0 MiB               for j_exp in id_idx[:n_grp1]:\n",
      "   494   2164.5 MiB      1.7 MiB                   iter_grp1_ale_values *= 1.0 - ma_arr[j_exp, :]\n",
      "   495   2164.5 MiB      0.0 MiB               iter_grp1_ale_values = 1 - iter_grp1_ale_values\n",
      "   496                             \n",
      "   497   2164.5 MiB      0.0 MiB               iter_grp2_ale_values = np.ones(n_voxels, dtype=ma_arr.dtype)\n",
      "   498   2164.5 MiB      0.0 MiB               for j_exp in id_idx[n_grp1:]:\n",
      "   499   2164.5 MiB      1.7 MiB                   iter_grp2_ale_values *= 1.0 - ma_arr[j_exp, :]\n",
      "   500   2164.5 MiB      0.0 MiB               iter_grp2_ale_values = 1 - iter_grp2_ale_values\n",
      "   501                             \n",
      "   502   2166.3 MiB      1.7 MiB               iter_diff_values[i_iter, :] = iter_grp1_ale_values - iter_grp2_ale_values\n",
      "   503   2166.3 MiB      0.0 MiB               del iter_grp1_ale_values, iter_grp2_ale_values\n",
      "   504                             \n",
      "   505   2166.3 MiB      0.0 MiB           if self.low_memory:\n",
      "   506                                         iter_diff_values.flush()\n",
      "   507                                         del iter_diff_values\n",
      "   508                                         iter_diff_values = np.memmap(filename, dtype=ma_arr.dtype, mode='r',\n",
      "   509                                                                      shape=(self.n_iters, n_voxels))\n",
      "   510                             \n",
      "   511   2166.3 MiB      0.0 MiB           for voxel in range(n_voxels):\n",
      "   512   2166.3 MiB      0.0 MiB               p_arr[voxel] = null_to_p(\n",
      "   513   2166.3 MiB      0.0 MiB                   diff_ale_values[voxel], iter_diff_values[:, voxel], tail=\"two\"\n",
      "   514                                         )\n",
      "   515   1902.7 MiB      0.0 MiB           diff_signs = np.sign(diff_ale_values - np.median(iter_diff_values, axis=0))\n",
      "   516                             \n",
      "   517   1902.7 MiB      0.0 MiB           if self.low_memory:\n",
      "   518                                         del iter_diff_values\n",
      "   519                                         os.remove(filename)\n",
      "   520                             \n",
      "   521   1904.4 MiB      1.7 MiB           z_arr = p_to_z(p_arr, tail=\"two\") * diff_signs\n",
      "   522                             \n",
      "   523   1904.4 MiB      0.0 MiB           images = {\"z_desc-group1MinusGroup2\": z_arr}\n",
      "   524   1904.4 MiB      0.0 MiB           return images\n"
     ]
    }
   ],
   "source": [
    "print(open('alesubtraction_high_mem', 'r').read())"
   ]
  },
  {
   "cell_type": "code",
   "execution_count": 6,
   "metadata": {},
   "outputs": [
    {
     "name": "stdout",
     "output_type": "stream",
     "text": [
      "Filename: /Users/tsalo/Documents/tsalo/NiMARE/nimare/meta/ale.py\n",
      "\n",
      "Line #    Mem usage    Increment   Line Contents\n",
      "================================================\n",
      "   445    369.1 MiB    369.1 MiB       def _fit(self, meta1, meta2):\n",
      "   446    369.1 MiB      0.0 MiB           assert np.array_equal(\n",
      "   447    369.1 MiB      0.0 MiB               meta1.dataset.masker.mask_img.affine, meta2.dataset.masker.mask_img.affine\n",
      "   448                                     )\n",
      "   449    369.1 MiB      0.0 MiB           self.masker = meta1.dataset.masker\n",
      "   450                             \n",
      "   451    369.1 MiB      0.0 MiB           ma_maps1 = meta1.kernel_transformer.transform(\n",
      "   452    283.7 MiB      0.0 MiB               meta1.inputs_[\"coordinates\"], masker=self.masker, return_type=\"array\"\n",
      "   453                                     )\n",
      "   454                             \n",
      "   455    283.7 MiB      0.0 MiB           ma_maps2 = meta2.kernel_transformer.transform(\n",
      "   456    320.3 MiB     36.6 MiB               meta2.inputs_[\"coordinates\"], masker=self.masker, return_type=\"array\"\n",
      "   457                                     )\n",
      "   458                             \n",
      "   459    320.3 MiB      0.0 MiB           n_grp1 = ma_maps1.shape[0]\n",
      "   460    393.5 MiB     73.2 MiB           ma_arr = np.vstack((ma_maps1, ma_maps2))\n",
      "   461    393.5 MiB      0.0 MiB           id_idx = np.arange(ma_arr.shape[0])\n",
      "   462    393.5 MiB      0.0 MiB           n_voxels = ma_arr.shape[1]\n",
      "   463                             \n",
      "   464                                     # Get ALE values for first group.\n",
      "   465    393.5 MiB      0.0 MiB           grp1_ma_arr = ma_arr[:n_grp1, :]\n",
      "   466    393.5 MiB      0.0 MiB           grp1_ale_values = np.ones(n_voxels)\n",
      "   467    393.5 MiB      0.0 MiB           for i_exp in range(grp1_ma_arr.shape[0]):\n",
      "   468    393.5 MiB      0.0 MiB               grp1_ale_values *= 1.0 - grp1_ma_arr[i_exp, :]\n",
      "   469    393.5 MiB      0.0 MiB           grp1_ale_values = 1 - grp1_ale_values\n",
      "   470                             \n",
      "   471                                     # Get ALE values for second group.\n",
      "   472    393.5 MiB      0.0 MiB           grp2_ma_arr = ma_arr[n_grp1:, :]\n",
      "   473    393.5 MiB      0.0 MiB           grp2_ale_values = np.ones(n_voxels)\n",
      "   474    393.5 MiB      0.0 MiB           for i_exp in range(grp2_ma_arr.shape[0]):\n",
      "   475    393.5 MiB      0.0 MiB               grp2_ale_values *= 1.0 - grp2_ma_arr[i_exp, :]\n",
      "   476    393.5 MiB      0.0 MiB           grp2_ale_values = 1 - grp2_ale_values\n",
      "   477                             \n",
      "   478    393.5 MiB      0.0 MiB           p_arr = np.ones(n_voxels)\n",
      "   479                             \n",
      "   480    393.5 MiB      0.0 MiB           diff_ale_values = grp1_ale_values - grp2_ale_values\n",
      "   481                             \n",
      "   482    393.5 MiB      0.0 MiB           if self.low_memory:\n",
      "   483    393.5 MiB      0.0 MiB               from tempfile import mkdtemp\n",
      "   484    393.5 MiB      0.0 MiB               filename = os.path.join(mkdtemp(), 'iter_diff_values.dat')\n",
      "   485    393.5 MiB      0.0 MiB               iter_diff_values = np.memmap(filename, dtype=ma_arr.dtype, mode='w+',\n",
      "   486    393.5 MiB      0.0 MiB                                            shape=(self.n_iters, n_voxels))\n",
      "   487                                     else:\n",
      "   488                                         iter_diff_values = np.zeros((self.n_iters, n_voxels), dtype=ma_arr.dtype)\n",
      "   489                             \n",
      "   490   2140.0 MiB      0.0 MiB           for i_iter in range(self.n_iters):\n",
      "   491   2138.3 MiB      0.0 MiB               np.random.shuffle(id_idx)\n",
      "   492   2138.3 MiB      0.0 MiB               iter_grp1_ale_values = np.ones(n_voxels, dtype=ma_arr.dtype)\n",
      "   493   2138.3 MiB      0.0 MiB               for j_exp in id_idx[:n_grp1]:\n",
      "   494   2138.3 MiB      1.7 MiB                   iter_grp1_ale_values *= 1.0 - ma_arr[j_exp, :]\n",
      "   495   2138.3 MiB      0.0 MiB               iter_grp1_ale_values = 1 - iter_grp1_ale_values\n",
      "   496                             \n",
      "   497   2138.3 MiB      0.0 MiB               iter_grp2_ale_values = np.ones(n_voxels, dtype=ma_arr.dtype)\n",
      "   498   2138.3 MiB      0.0 MiB               for j_exp in id_idx[n_grp1:]:\n",
      "   499   2138.3 MiB      1.7 MiB                   iter_grp2_ale_values *= 1.0 - ma_arr[j_exp, :]\n",
      "   500   2138.3 MiB      0.0 MiB               iter_grp2_ale_values = 1 - iter_grp2_ale_values\n",
      "   501                             \n",
      "   502   2140.0 MiB      1.7 MiB               iter_diff_values[i_iter, :] = iter_grp1_ale_values - iter_grp2_ale_values\n",
      "   503   2140.0 MiB      0.0 MiB               del iter_grp1_ale_values, iter_grp2_ale_values\n",
      "   504                             \n",
      "   505   2140.0 MiB      0.0 MiB           if self.low_memory:\n",
      "   506   2140.0 MiB      0.0 MiB               iter_diff_values.flush()\n",
      "   507    397.0 MiB      0.0 MiB               del iter_diff_values\n",
      "   508    397.0 MiB      0.0 MiB               iter_diff_values = np.memmap(filename, dtype=ma_arr.dtype, mode='r',\n",
      "   509    397.0 MiB      0.0 MiB                                            shape=(self.n_iters, n_voxels))\n",
      "   510                             \n",
      "   511   2140.0 MiB      0.0 MiB           for voxel in range(n_voxels):\n",
      "   512   2140.0 MiB      0.0 MiB               p_arr[voxel] = null_to_p(\n",
      "   513   2140.0 MiB      3.9 MiB                   diff_ale_values[voxel], iter_diff_values[:, voxel], tail=\"two\"\n",
      "   514                                         )\n",
      "   515   2140.0 MiB      0.0 MiB           diff_signs = np.sign(diff_ale_values - np.median(iter_diff_values, axis=0))\n",
      "   516                             \n",
      "   517   2140.0 MiB      0.0 MiB           if self.low_memory:\n",
      "   518    397.0 MiB      0.0 MiB               del iter_diff_values\n",
      "   519    397.0 MiB      0.0 MiB               os.remove(filename)\n",
      "   520                             \n",
      "   521    398.8 MiB      1.7 MiB           z_arr = p_to_z(p_arr, tail=\"two\") * diff_signs\n",
      "   522                             \n",
      "   523    398.8 MiB      0.0 MiB           images = {\"z_desc-group1MinusGroup2\": z_arr}\n",
      "   524    398.8 MiB      0.0 MiB           return images\n"
     ]
    }
   ],
   "source": [
    "print(open('alesubtraction_low_mem', 'r').read())"
   ]
  }
 ],
 "metadata": {
  "kernelspec": {
   "display_name": "Python [conda env:python3]",
   "language": "python",
   "name": "conda-env-python3-py"
  },
  "language_info": {
   "codemirror_mode": {
    "name": "ipython",
    "version": 3
   },
   "file_extension": ".py",
   "mimetype": "text/x-python",
   "name": "python",
   "nbconvert_exporter": "python",
   "pygments_lexer": "ipython3",
   "version": "3.6.4"
  }
 },
 "nbformat": 4,
 "nbformat_minor": 2
}
