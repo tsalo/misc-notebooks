{
 "cells": [
  {
   "cell_type": "markdown",
   "metadata": {},
   "source": [
    "# Simulate perfect ME data from real ME data"
   ]
  },
  {
   "cell_type": "code",
   "execution_count": null,
   "metadata": {},
   "outputs": [],
   "source": [
    "import os.path as op"
   ]
  },
  {
   "cell_type": "code",
   "execution_count": null,
   "metadata": {},
   "outputs": [],
   "source": [
    "TEDANA_DIR = \"/Users/taylor/Documents/datasets/cambridge/tedana/\"\n",
    "comptable = op.join(TEDANA_DIR, \"desc-tedana_metrics.tsv\")\n",
    "ica_maps = op.join(TEDANA_DIR, \"desc-ICA_components.nii.gz\")\n",
    "ica_components = op.join(TEDANA_DIR, \"desc-ICA_mixing.tsv\")\n",
    "t2star_map = op.join(TEDANA_DIR, \"T2starmap.nii.gz\")\n",
    "s0_map = op.join(TEDANA_DIR, \"S0map.nii.gz\")"
   ]
  },
  {
   "cell_type": "code",
   "execution_count": null,
   "metadata": {},
   "outputs": [],
   "source": [
    "def predict_bold_signal(echo_times, s0, t2s):\n",
    "    \"\"\"Predict multi-echo signal according to monoexponential decay model.\n",
    "    \n",
    "    Parameters\n",
    "    ----------\n",
    "    echo_times : numpy.ndarray of shape (tes,)\n",
    "        Echo times for which to predict data, in milliseconds.\n",
    "    s0 : numpy.ndarray of shape (time,)\n",
    "        S0 time series.\n",
    "    t2s : numpy.ndarray of shpae (time,)\n",
    "        T2* time series.\n",
    "    \n",
    "    Returns\n",
    "    -------\n",
    "    data : numpy.ndarray of shape (tes, time)\n",
    "        Predicted BOLD signal from each of the echo times.\n",
    "    \n",
    "    Notes\n",
    "    -----\n",
    "    This is meant to be a sort of inverse to the code used\n",
    "    in tedana.decay.fit_decay\n",
    "    \"\"\"\n",
    "    if not isinstance(t2s, np.ndarray):\n",
    "        t2s = np.array([t2s])\n",
    "\n",
    "    if not isinstance(s0, np.ndarray):\n",
    "        s0 = np.array([s0])\n",
    "\n",
    "    neg_tes = (-1 * echo_times)[None, :]\n",
    "    r2s = (1 / t2s)[:, None]\n",
    "    intercept = np.log(s0)[:, None]\n",
    "    log_data = np.dot(r2s, neg_tes) + intercept\n",
    "    # Removed -1 from outside exp because it messes up dt_sig2\n",
    "    data = np.exp(log_data).T\n",
    "    return data\n"
   ]
  },
  {
   "cell_type": "code",
   "execution_count": null,
   "metadata": {},
   "outputs": [],
   "source": []
  }
 ],
 "metadata": {
  "kernelspec": {
   "display_name": "Python 3",
   "language": "python",
   "name": "python3"
  },
  "language_info": {
   "codemirror_mode": {
    "name": "ipython",
    "version": 3
   },
   "file_extension": ".py",
   "mimetype": "text/x-python",
   "name": "python",
   "nbconvert_exporter": "python",
   "pygments_lexer": "ipython3",
   "version": "3.8.5"
  }
 },
 "nbformat": 4,
 "nbformat_minor": 4
}
