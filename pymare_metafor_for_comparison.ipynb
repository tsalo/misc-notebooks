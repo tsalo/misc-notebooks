{
 "cells": [
  {
   "cell_type": "code",
   "execution_count": 1,
   "metadata": {},
   "outputs": [
    {
     "name": "stderr",
     "output_type": "stream",
     "text": [
      "Loading required package: Matrix\n",
      "\n",
      "\n",
      "Loading the 'metafor' package (version 3.0-2). For an\n",
      "introduction to the package please type: help(metafor)\n",
      "\n",
      "\n"
     ]
    }
   ],
   "source": [
    "library(metafor)"
   ]
  },
  {
   "cell_type": "code",
   "execution_count": 2,
   "metadata": {},
   "outputs": [],
   "source": [
    "y <- c(-1, 0.5, 0.5, 0.5, 1, 1, 2, 10)\n",
    "v <- c(1, 1, 2.4, 0.5, 1, 1, 1.2, 1.5)"
   ]
  },
  {
   "cell_type": "code",
   "execution_count": 3,
   "metadata": {},
   "outputs": [],
   "source": [
    "mod <- rma(yi=y, vi=v)"
   ]
  },
  {
   "cell_type": "code",
   "execution_count": 4,
   "metadata": {},
   "outputs": [
    {
     "data": {
      "text/html": [
       "1.50624891975595"
      ],
      "text/latex": [
       "1.50624891975595"
      ],
      "text/markdown": [
       "1.50624891975595"
      ],
      "text/plain": [
       "[1] 1.506249"
      ]
     },
     "metadata": {},
     "output_type": "display_data"
    }
   ],
   "source": [
    "mod$zval"
   ]
  },
  {
   "cell_type": "code",
   "execution_count": 5,
   "metadata": {},
   "outputs": [
    {
     "data": {
      "text/html": [
       "0.132003285524856"
      ],
      "text/latex": [
       "0.132003285524856"
      ],
      "text/markdown": [
       "0.132003285524856"
      ],
      "text/plain": [
       "[1] 0.1320033"
      ]
     },
     "metadata": {},
     "output_type": "display_data"
    }
   ],
   "source": [
    "mod$pval"
   ]
  },
  {
   "cell_type": "code",
   "execution_count": 6,
   "metadata": {},
   "outputs": [
    {
     "name": "stdout",
     "output_type": "stream",
     "text": [
      "\n",
      "Random-Effects Model (k = 8; tau^2 estimator: REML)\n",
      "\n",
      "tau^2 (estimated amount of total heterogeneity): 9.9656 (SE = 5.9525)\n",
      "tau (square root of estimated tau^2 value):      3.1568\n",
      "I^2 (total heterogeneity / total variability):   90.56%\n",
      "H^2 (total variability / sampling variability):  10.60\n",
      "\n",
      "Test for Heterogeneity:\n",
      "Q(df = 7) = 58.4539, p-val < .0001\n",
      "\n",
      "Model Results:\n",
      "\n",
      "estimate      se    zval    pval    ci.lb   ci.ub \n",
      "  1.7776  1.1802  1.5062  0.1320  -0.5355  4.0907    \n",
      "\n",
      "---\n",
      "Signif. codes:  0 ‘***’ 0.001 ‘**’ 0.01 ‘*’ 0.05 ‘.’ 0.1 ‘ ’ 1\n",
      "\n"
     ]
    }
   ],
   "source": [
    "print(mod)"
   ]
  },
  {
   "cell_type": "code",
   "execution_count": null,
   "metadata": {},
   "outputs": [],
   "source": []
  }
 ],
 "metadata": {
  "kernelspec": {
   "display_name": "R",
   "language": "R",
   "name": "ir"
  },
  "language_info": {
   "codemirror_mode": "r",
   "file_extension": ".r",
   "mimetype": "text/x-r-source",
   "name": "R",
   "pygments_lexer": "r",
   "version": "4.1.0"
  }
 },
 "nbformat": 4,
 "nbformat_minor": 4
}
